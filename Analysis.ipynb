{
 "cells": [
  {
   "cell_type": "markdown",
   "metadata": {},
   "source": [
    "# CPP and DynA Clinical Variants aSMD Analysis"
   ]
  },
  {
   "cell_type": "code",
   "execution_count": 1,
   "metadata": {},
   "outputs": [],
   "source": [
    "import os\n",
    "import glob\n",
    "import numpy as np\n",
    "import pandas as pd\n",
    "import MDAnalysis as mda\n",
    "# import lipyphilic as lpp\n",
    "import matplotlib.pyplot as plt\n",
    "from scipy.spatial import distance # to calculate pore\n",
    "from MDAnalysis.analysis import density\n",
    "import subprocess # To run amber & gromacs commands from jupyter notebook\n",
    "import MDAnalysis.lib.util as util # To convert from 3 letter to 1 letter aa code\n",
    "\n",
    "# For occupancy analysis\n",
    "# import pylipid \n",
    "from pylipid.api import LipidInteraction\n",
    "from matplotlib.patches import Circle # For the radar plot\n",
    "import matplotlib.colors as mcolors\n",
    "\n",
    "# To analyse membrane thickness and area per lipid\n",
    "from lipyphilic.lib.assign_leaflets import AssignLeaflets\n",
    "from lipyphilic.lib.area_per_lipid import AreaPerLipid\n",
    "from lipyphilic.lib.memb_thickness import MembThickness"
   ]
  },
  {
   "cell_type": "code",
   "execution_count": 2,
   "metadata": {},
   "outputs": [
    {
     "name": "stdout",
     "output_type": "stream",
     "text": [
      "Analysis can be run in folders: ['0.Control', '0.pdb', '1.Arg9', '2.MAP', '3.TP2', '4.DynAWT', '5.DynAL5S', '6.DynAR6W', '7.DynAR9C', '8.Hysteresis']\n"
     ]
    }
   ],
   "source": [
    "folders = glob.glob('?.*') # Find folders that start with a number and a dot. Then whatever\n",
    "folders.sort(reverse=False)\n",
    "print(f'Analysis can be run in folders: {folders}')\n",
    "# filenames = \n",
    "peptides = [i[2:] for i in folders]\n",
    "peptide_names = ['Control','Arg9', 'MAP', 'TP2', 'DynA WT', 'DynA L5S', 'DynA R6W', 'DynA R9C']\n",
    "groups = [[1,2,3],[4,5,6,7]]\n",
    "all_groups = [[0,1,2,3],[4,5,6,7]]\n",
    "group_names = ['CPPs','DynAs']\n",
    "membranes = ['','DPPC','DPPCDOPCCHOL','DPPCDOPCDPPSDOPSCHOL']\n",
    "membrane_names = ['','DPPC','DPPC:DOPC:CHOL','DPPC:DOPC:DPPS:DOPS:CHOL']\n",
    "peptides_length = [0,9,18,13,17,17,17,17]\n",
    "# Colors are: ['black','darkgreen','rose','gold','lightgreen','purple','conrflowerblue','orange',lightblue(TP10)]\n",
    "pept_colors = ['k','#03540A','#8c564b','#bcbd22','#2ED72E','#B50DD2','#1f77b4','#ff7f0e','#17BECF']\n",
    "data_folder = './Analysis_data/'\n",
    "plots_folder = './Analysis_plots/'"
   ]
  },
  {
   "cell_type": "code",
   "execution_count": 3,
   "metadata": {},
   "outputs": [
    {
     "name": "stdout",
     "output_type": "stream",
     "text": [
      "Analysis will be run for: 0.Control-DPPCDOPCDPPSDOPSCHOL\n"
     ]
    }
   ],
   "source": [
    "pept_num = 0\n",
    "memb_num = 3\n",
    "group_num = 0\n",
    "peptide = peptides[pept_num]\n",
    "peptide_name = peptide_names[pept_num]\n",
    "membrane = membranes[memb_num]\n",
    "membrane_name = membrane_names[memb_num]\n",
    "pept_color = pept_colors[pept_num]\n",
    "folder = f'{folders[pept_num]}/{memb_num}.{membrane}/'\n",
    "pmf_folder = f'{folder}pmf_distances/'\n",
    "parm_file = f'{folder}step5_input.parm7'\n",
    "asmd_file = f'{folder}step7.2_only_asmd.nc'\n",
    "asmd_long_file = f'{folder}step7.2_only_asmd_copy.nc'\n",
    "traj_file = f'{folder}step7.3_final_relaxation_100ns.nc'\n",
    "center_file = f'{folder}step7.4_asmd_relax_centered.nc'\n",
    "print(f'Analysis will be run for: {folders[pept_num]}-{membranes[memb_num]}')"
   ]
  },
  {
   "cell_type": "code",
   "execution_count": 37,
   "metadata": {},
   "outputs": [],
   "source": [
    "def center_traj(folder):\n",
    "    # First of all, center trajectory and analyse density\n",
    "\n",
    "    os.system(f'echo \"source /usr/local/AMBER/Ubuntu20.04.6-GPU/Amber20/amber.sh\\n\\\n",
    "    cpptraj -p {folder}step5_input.parm7 -y {folder}step7.3_final_relaxation_100ns.nc -i input_cpptraj-1.inp -x {folder}step7.3_centered.nc\\n\\\n",
    "    cpptraj -p {folder}step5_input.parm7 -y {folder}step7.3_centered.nc -i input_cpptraj-2.inp\\n\\\n",
    "    cpptraj -p {folder}step5_input.parm7 -y {folder}step7.2_only_asmd.nc -y {folder}step7.3_final_relaxation_100ns.nc -i input_cpptraj-1.inp -x {folder}step7.4_asmd_relax_centered.nc\">CPPTRAJ')\n",
    "    os.system('chmod 700 CPPTRAJ')\n",
    "\n",
    "    subprocess.call(f'/bin/bash -c \"source /usr/local/AMBER/Ubuntu20.04.6-GPU/Amber20/amber.sh && ./CPPTRAJ\"', shell=True)\n",
    "    os.system(f'mv density.dat {folder}')"
   ]
  },
  {
   "cell_type": "code",
   "execution_count": 38,
   "metadata": {},
   "outputs": [
    {
     "name": "stdout",
     "output_type": "stream",
     "text": [
      "\n",
      "CPPTRAJ: Trajectory Analysis. V5.1.0\n",
      "    ___  ___  ___  ___\n",
      "     | \\/ | \\/ | \\/ | \n",
      "    _|_/\\_|_/\\_|_/\\_|_\n",
      "\n",
      "| Date/time: 06/01/24 00:58:14\n",
      "| Available memory: 1.594 GB\n",
      "\n",
      "\tReading '0.Control/3.DPPCDOPCDPPSDOPSCHOL/step5_input.parm7' as Amber Topology\n",
      "\tRadius Set: modified Bondi radii (mbondi)\n",
      "\tReading '0.Control/3.DPPCDOPCDPPSDOPSCHOL/step7.3_final_relaxation_100ns.nc' as Amber NetCDF\n",
      "\tWriting '0.Control/3.DPPCDOPCDPPSDOPSCHOL/step7.3_centered.nc' as Amber NetCDF\n",
      "INPUT: Reading input from 'input_cpptraj-1.inp'\n",
      "  [autoimage :PC,PA,OL,PS]\n",
      "    AUTOIMAGE: To box center based on center of mass, anchor mask is [:PC,PA,OL,PS]\n",
      "---------- RUN BEGIN -------------------------------------------------\n",
      "\n",
      "PARAMETER FILES (1 total):\n",
      " 0: step5_input.parm7, 72404 atoms, 13116 res, box: Tetragonal, 12636 mol, 12154 solvent\n",
      "\n",
      "INPUT TRAJECTORIES (1 total):\n",
      " 0: 'step7.3_final_relaxation_100ns.nc' is a NetCDF AMBER trajectory with coordinates, time, box, Parm step5_input.parm7 (Tetragonal box) (reading 1000 of 1000)\n",
      "  Coordinate processing will occur on 1000 frames.\n",
      "\n",
      "OUTPUT TRAJECTORIES (1 total):\n",
      "  'step7.3_centered.nc' (1000 frames) is a NetCDF AMBER trajectory\n",
      "\n",
      "BEGIN TRAJECTORY PROCESSING:\n",
      ".....................................................\n",
      "ACTION SETUP FOR PARM 'step5_input.parm7' (1 actions):\n",
      "  0: [autoimage :PC,PA,OL,PS]\n",
      "\tAnchoring on atoms selected by mask ':PC,PA,OL,PS'\n",
      "\tMask [:PC,PA,OL,PS] corresponds to 31320 atoms.\n",
      "\t300 molecules are fixed to anchor: 1 2 3 4 5 6 7 8 9 10 11 12 13 14 15 16 17 18 19 20 21 22 23 24 25 26 27 28 29 30 31 32 33 34 35 36 37 38 39 40 41 42 43 44 45 46 47 48 49 50 51 52 53 54 55 56 57 58 59 60 61 62 63 64 65 66 67 68 69 70 71 72 73 74 75 76 77 78 79 80 81 82 83 84 85 86 87 88 89 90 91 92 93 94 95 96 97 98 99 100 101 102 103 104 105 106 107 108 109 110 111 112 113 114 115 116 117 118 119 120 121 122 123 124 125 126 127 128 129 130 131 132 133 134 135 136 137 138 139 140 141 142 143 144 145 146 147 148 149 150 151 152 153 154 155 156 157 158 159 160 161 162 163 164 165 166 167 168 169 170 171 172 173 174 175 176 177 178 179 180 181 182 183 184 185 186 187 188 189 190 191 192 193 194 195 196 197 198 199 200 201 202 203 204 205 206 207 208 209 210 211 212 213 214 215 216 217 218 219 220 221 222 223 224 225 226 227 228 229 230 231 232 233 234 235 236 237 238 239 240 241 242 243 244 245 246 247 248 249 250 251 252 253 254 255 256 257 258 259 260 261 262 263 264 265 266 267 268 269 270 271 272 273 274 275 276 277 278 279 280 281 282 283 284 285 286 287 288 289 290 291 292 293 294 295 296 297 298 299 300\n",
      "\t12336 molecules are mobile.\n",
      ".....................................................\n",
      "ACTIVE OUTPUT TRAJECTORIES (1):\n",
      "  0.Control/3.DPPCDOPCDPPSDOPSCHOL/step7.3_centered.nc (coordinates, time, box)\n",
      "----- step7.3_final_relaxation_100ns.nc (1-1000, 1) -----\n",
      " 0% 10% 20% 30% 40% 50% 60% 70% 80% 90% 100% Complete.\n",
      "\n",
      "Read 1000 frames and processed 1000 frames.\n",
      "TIME: Avg. throughput= 191.8738 frames / second.\n",
      "\n",
      "ACTION OUTPUT:\n",
      "TIME: Analyses took 0.0000 seconds.\n",
      "\n",
      "RUN TIMING:\n",
      "TIME:\t\tInit               : 0.0000 s (  0.00%)\n",
      "TIME:\t\tTrajectory Process : 5.2118 s ( 99.99%)\n",
      "TIME:\t\tAction Post        : 0.0000 s (  0.00%)\n",
      "TIME:\t\tAnalysis           : 0.0000 s (  0.00%)\n",
      "TIME:\t\tData File Write    : 0.0000 s (  0.00%)\n",
      "TIME:\t\tOther              : 0.0003 s (  0.00%)\n",
      "TIME:\tRun Total 5.2121 s\n",
      "---------- RUN END ---------------------------------------------------\n",
      "TIME: Total execution time: 5.4451 seconds.\n",
      "--------------------------------------------------------------------------------\n",
      "To cite CPPTRAJ use:\n",
      "Daniel R. Roe and Thomas E. Cheatham, III, \"PTRAJ and CPPTRAJ: Software for\n",
      "  Processing and Analysis of Molecular Dynamics Trajectory Data\". J. Chem.\n",
      "  Theory Comput., 2013, 9 (7), pp 3084-3095.\n",
      "\n",
      "\n",
      "CPPTRAJ: Trajectory Analysis. V5.1.0\n",
      "    ___  ___  ___  ___\n",
      "     | \\/ | \\/ | \\/ | \n",
      "    _|_/\\_|_/\\_|_/\\_|_\n",
      "\n",
      "| Date/time: 06/01/24 00:58:19\n",
      "| Available memory: 803.418 MB\n",
      "\n",
      "\tReading '0.Control/3.DPPCDOPCDPPSDOPSCHOL/step5_input.parm7' as Amber Topology\n",
      "\tRadius Set: modified Bondi radii (mbondi)\n",
      "\tReading '0.Control/3.DPPCDOPCDPPSDOPSCHOL/step7.3_centered.nc' as Amber NetCDF\n",
      "INPUT: Reading input from 'input_cpptraj-2.inp'\n",
      "  [density electron \":PC,PS\" \":PA\" \":WAT\" \":Na+\" \":Cl-\" \":OL\" out density.dat]\n",
      "    DENSITY: Determining electron density for 6 masks.\n",
      "\troutine version: 1.0.3\n",
      "\tDelta is 0.010000\n",
      "\tAxis is Z\n",
      "\tData set name is 'DENSITY_00001'\n",
      "\tData set aspect [avg] holds the mean, aspect [sd] holds standard deviation.\n",
      "\tBin coordinates will be to bin center.\n",
      "\tOutput to 'density.dat'\n",
      "---------- RUN BEGIN -------------------------------------------------\n",
      "\n",
      "PARAMETER FILES (1 total):\n",
      " 0: step5_input.parm7, 72404 atoms, 13116 res, box: Tetragonal, 12636 mol, 12154 solvent\n",
      "\n",
      "INPUT TRAJECTORIES (1 total):\n",
      " 0: 'step7.3_centered.nc' is a NetCDF AMBER trajectory with coordinates, time, box, Parm step5_input.parm7 (Tetragonal box) (reading 1000 of 1000)\n",
      "  Coordinate processing will occur on 1000 frames.\n",
      "\n",
      "BEGIN TRAJECTORY PROCESSING:\n",
      ".....................................................\n",
      "ACTION SETUP FOR PARM 'step5_input.parm7' (1 actions):\n",
      "  0: [density electron \":PC,PS\" \":PA\" \":WAT\" \":Na+\" \":Cl-\" \":OL\" out density.dat]\n",
      "\t [:PC,PS](8280)\n",
      "\t [:PA](11040)\n",
      "\t [:WAT](36462)\n",
      "\t [:Na+](151)\n",
      "\t [:Cl-](31)\n",
      "\t [:OL](12000)\n",
      "----- step7.3_centered.nc (1-1000, 1) -----\n",
      " 0% 10% 20% 30% 40% 50% 60% 70% 80% 90% 100% Complete.\n",
      "\n",
      "Read 1000 frames and processed 1000 frames.\n",
      "TIME: Avg. throughput= 42.2243 frames / second.\n",
      "\n",
      "ACTION OUTPUT:\n",
      "    DENSITY: The average box area in X/Y is 7728.31 Angstrom (sd = 71.92).\n",
      "The electron density will be scaled by this area.\n",
      "TIME: Analyses took 0.0000 seconds.\n",
      "\n",
      "DATASETS (12 total):\n",
      "\tDENSITY_00001[avg]:1 \":PC,PS\" (double), size is 9378 (75.024 kB)\n",
      "\tDENSITY_00001[sd]:1 \"sd(:PC,PS)\" (double), size is 9378 (75.024 kB)\n",
      "\tDENSITY_00001[avg]:2 \":PA\" (double), size is 9378 (75.024 kB)\n",
      "\tDENSITY_00001[sd]:2 \"sd(:PA)\" (double), size is 9378 (75.024 kB)\n",
      "\tDENSITY_00001[avg]:3 \":WAT\" (double), size is 9378 (75.024 kB)\n",
      "\tDENSITY_00001[sd]:3 \"sd(:WAT)\" (double), size is 9378 (75.024 kB)\n",
      "\tDENSITY_00001[avg]:4 \":Na+\" (double), size is 9378 (75.024 kB)\n",
      "\tDENSITY_00001[sd]:4 \"sd(:Na+)\" (double), size is 9378 (75.024 kB)\n",
      "\tDENSITY_00001[avg]:5 \":Cl-\" (double), size is 9378 (75.024 kB)\n",
      "\tDENSITY_00001[sd]:5 \"sd(:Cl-)\" (double), size is 9378 (75.024 kB)\n",
      "\tDENSITY_00001[avg]:6 \":OL\" (double), size is 9378 (75.024 kB)\n",
      "\tDENSITY_00001[sd]:6 \"sd(:OL)\" (double), size is 9378 (75.024 kB)\n",
      "    Total data set memory usage is at least 900.288 kB\n",
      "\n",
      "DATAFILES (1 total):\n",
      "  density.dat (Standard Data File):  :PC,PS sd(:PC,PS) :PA sd(:PA) ... :Cl- sd(:Cl-) :OL sd(:OL)\n",
      "\n",
      "RUN TIMING:\n",
      "TIME:\t\tInit               : 0.0000 s (  0.00%)\n",
      "TIME:\t\tTrajectory Process : 23.6830 s ( 99.84%)\n",
      "TIME:\t\tAction Post        : 0.0012 s (  0.01%)\n",
      "TIME:\t\tAnalysis           : 0.0000 s (  0.00%)\n",
      "TIME:\t\tData File Write    : 0.0349 s (  0.15%)\n",
      "TIME:\t\tOther              : 0.0023 s (  0.00%)\n",
      "TIME:\tRun Total 23.7214 s\n",
      "---------- RUN END ---------------------------------------------------\n",
      "TIME: Total execution time: 23.8553 seconds.\n",
      "--------------------------------------------------------------------------------\n",
      "To cite CPPTRAJ use:\n",
      "Daniel R. Roe and Thomas E. Cheatham, III, \"PTRAJ and CPPTRAJ: Software for\n",
      "  Processing and Analysis of Molecular Dynamics Trajectory Data\". J. Chem.\n",
      "  Theory Comput., 2013, 9 (7), pp 3084-3095.\n",
      "\n",
      "\n",
      "CPPTRAJ: Trajectory Analysis. V5.1.0\n",
      "    ___  ___  ___  ___\n",
      "     | \\/ | \\/ | \\/ | \n",
      "    _|_/\\_|_/\\_|_/\\_|_\n",
      "\n",
      "| Date/time: 06/01/24 00:58:43\n",
      "| Available memory: 852.795 MB\n",
      "\n",
      "\tReading '0.Control/3.DPPCDOPCDPPSDOPSCHOL/step5_input.parm7' as Amber Topology\n",
      "\tRadius Set: modified Bondi radii (mbondi)\n",
      "\tReading '0.Control/3.DPPCDOPCDPPSDOPSCHOL/step7.2_only_asmd.nc' as Amber NetCDF\n",
      "\tReading '0.Control/3.DPPCDOPCDPPSDOPSCHOL/step7.3_final_relaxation_100ns.nc' as Amber NetCDF\n",
      "\tWriting '0.Control/3.DPPCDOPCDPPSDOPSCHOL/step7.4_asmd_relax_centered.nc' as Amber NetCDF\n",
      "INPUT: Reading input from 'input_cpptraj-1.inp'\n",
      "  [autoimage :PC,PA,OL,PS]\n",
      "    AUTOIMAGE: To box center based on center of mass, anchor mask is [:PC,PA,OL,PS]\n",
      "---------- RUN BEGIN -------------------------------------------------\n",
      "\n",
      "PARAMETER FILES (1 total):\n",
      " 0: step5_input.parm7, 72404 atoms, 13116 res, box: Tetragonal, 12636 mol, 12154 solvent\n",
      "\n",
      "INPUT TRAJECTORIES (2 total):\n",
      " 0: 'step7.2_only_asmd.nc' is a NetCDF AMBER trajectory with coordinates, time, box, Parm step5_input.parm7 (Tetragonal box) (reading 400 of 400)\n",
      " 1: 'step7.3_final_relaxation_100ns.nc' is a NetCDF AMBER trajectory with coordinates, time, box, Parm step5_input.parm7 (Tetragonal box) (reading 1000 of 1000)\n",
      "  Coordinate processing will occur on 1400 frames.\n",
      "\n",
      "OUTPUT TRAJECTORIES (1 total):\n",
      "  'step7.4_asmd_relax_centered.nc' (1400 frames) is a NetCDF AMBER trajectory\n",
      "\n",
      "BEGIN TRAJECTORY PROCESSING:\n",
      ".....................................................\n",
      "ACTION SETUP FOR PARM 'step5_input.parm7' (1 actions):\n",
      "  0: [autoimage :PC,PA,OL,PS]\n",
      "\tAnchoring on atoms selected by mask ':PC,PA,OL,PS'\n",
      "\tMask [:PC,PA,OL,PS] corresponds to 31320 atoms.\n",
      "\t300 molecules are fixed to anchor: 1 2 3 4 5 6 7 8 9 10 11 12 13 14 15 16 17 18 19 20 21 22 23 24 25 26 27 28 29 30 31 32 33 34 35 36 37 38 39 40 41 42 43 44 45 46 47 48 49 50 51 52 53 54 55 56 57 58 59 60 61 62 63 64 65 66 67 68 69 70 71 72 73 74 75 76 77 78 79 80 81 82 83 84 85 86 87 88 89 90 91 92 93 94 95 96 97 98 99 100 101 102 103 104 105 106 107 108 109 110 111 112 113 114 115 116 117 118 119 120 121 122 123 124 125 126 127 128 129 130 131 132 133 134 135 136 137 138 139 140 141 142 143 144 145 146 147 148 149 150 151 152 153 154 155 156 157 158 159 160 161 162 163 164 165 166 167 168 169 170 171 172 173 174 175 176 177 178 179 180 181 182 183 184 185 186 187 188 189 190 191 192 193 194 195 196 197 198 199 200 201 202 203 204 205 206 207 208 209 210 211 212 213 214 215 216 217 218 219 220 221 222 223 224 225 226 227 228 229 230 231 232 233 234 235 236 237 238 239 240 241 242 243 244 245 246 247 248 249 250 251 252 253 254 255 256 257 258 259 260 261 262 263 264 265 266 267 268 269 270 271 272 273 274 275 276 277 278 279 280 281 282 283 284 285 286 287 288 289 290 291 292 293 294 295 296 297 298 299 300\n",
      "\t12336 molecules are mobile.\n",
      ".....................................................\n",
      "ACTIVE OUTPUT TRAJECTORIES (1):\n",
      "  0.Control/3.DPPCDOPCDPPSDOPSCHOL/step7.4_asmd_relax_centered.nc (coordinates, time, box)\n",
      "----- step7.2_only_asmd.nc (1-400, 1) -----\n",
      " 0% 10% 20% \n",
      "----- step7.3_final_relaxation_100ns.nc (1-1000, 1) -----\n",
      "30% 40% 50% 60% 70% 80% 90% 100% Complete.\n",
      "\n",
      "Read 1400 frames and processed 1400 frames.\n",
      "TIME: Avg. throughput= 212.3743 frames / second.\n",
      "\n",
      "ACTION OUTPUT:\n",
      "TIME: Analyses took 0.0000 seconds.\n",
      "\n",
      "RUN TIMING:\n",
      "TIME:\t\tInit               : 0.0000 s (  0.00%)\n",
      "TIME:\t\tTrajectory Process : 6.5921 s (100.00%)\n",
      "TIME:\t\tAction Post        : 0.0000 s (  0.00%)\n",
      "TIME:\t\tAnalysis           : 0.0000 s (  0.00%)\n",
      "TIME:\t\tData File Write    : 0.0000 s (  0.00%)\n",
      "TIME:\t\tOther              : 0.0003 s (  0.00%)\n",
      "TIME:\tRun Total 6.5924 s\n",
      "---------- RUN END ---------------------------------------------------\n",
      "TIME: Total execution time: 6.7472 seconds.\n",
      "--------------------------------------------------------------------------------\n",
      "To cite CPPTRAJ use:\n",
      "Daniel R. Roe and Thomas E. Cheatham, III, \"PTRAJ and CPPTRAJ: Software for\n",
      "  Processing and Analysis of Molecular Dynamics Trajectory Data\". J. Chem.\n",
      "  Theory Comput., 2013, 9 (7), pp 3084-3095.\n",
      "\n"
     ]
    }
   ],
   "source": [
    "center_traj(folder)"
   ]
  },
  {
   "cell_type": "code",
   "execution_count": 39,
   "metadata": {},
   "outputs": [],
   "source": [
    "u = mda.Universe(parm_file,traj_file)\n",
    "a = mda.Universe(parm_file,asmd_file)\n",
    "# l = mda.Universe(parm_file,asmd_long_file)\n",
    "c = mda.Universe(parm_file,center_file)"
   ]
  },
  {
   "cell_type": "markdown",
   "metadata": {},
   "source": [
    "## Distance"
   ]
  },
  {
   "cell_type": "code",
   "execution_count": null,
   "metadata": {},
   "outputs": [],
   "source": [
    "time = [i/10 for i in range(1000)]"
   ]
  },
  {
   "cell_type": "code",
   "execution_count": null,
   "metadata": {},
   "outputs": [],
   "source": [
    "df = pd.DataFrame()\n",
    "df['Time'] = time\n",
    "for pept_num in range(7):\n",
    "    memb_num = 1\n",
    "    # peptide = peptides[pept_num]\n",
    "    peptide_name = peptide_names[pept_num]\n",
    "    membrane = membranes[memb_num]\n",
    "    membrane_name = membrane_names[memb_num]\n",
    "    pept_color = pept_colors[pept_num]\n",
    "    folder = f'{folders[pept_num]}/{memb_num}.{membrane}/'\n",
    "    parm_file = f'{folder}step5_input.parm7'\n",
    "    traj_file = f'{folder}step7.3_final_relaxation_100ns.nc'\n",
    "\n",
    "    u = mda.Universe(parm_file,traj_file)\n",
    "    z_pos = []\n",
    "    for _ in u.trajectory:\n",
    "        z_pos.append(u.select_atoms('protein').center_of_mass()[2])\n",
    "    df[f'{peptide_names[pept_num]}'] = z_pos"
   ]
  },
  {
   "cell_type": "code",
   "execution_count": null,
   "metadata": {},
   "outputs": [],
   "source": [
    "# df.iloc[:, 1:] = df.iloc[:, 1:].sub(df.iloc[0, 1:], axis=1)\n",
    "df.iloc[0, 1] *= -1\n",
    "df"
   ]
  },
  {
   "cell_type": "code",
   "execution_count": null,
   "metadata": {},
   "outputs": [],
   "source": [
    "df.to_csv(f'{data_folder}{memb_num}_peptide_positions_in_relaxation.csv')"
   ]
  },
  {
   "cell_type": "code",
   "execution_count": null,
   "metadata": {},
   "outputs": [],
   "source": [
    "df = pd.DataFrame()\n",
    "df['Time'] = time\n",
    "df['Arg9'] = z_pos\n",
    "df.to_csv(f'{data_folder}peptide_positions.csv')"
   ]
  },
  {
   "cell_type": "markdown",
   "metadata": {},
   "source": [
    "## PMF"
   ]
  },
  {
   "cell_type": "code",
   "execution_count": 13,
   "metadata": {},
   "outputs": [],
   "source": [
    "def calculate_pmf(pept_num,memb_num):\n",
    "    \"\"\" This function calculates the pmf of all the replicas in all 8 steps\"\"\"\n",
    "    folder = f'{folders[pept_num]}/{memb_num}.{membranes[memb_num]}/'\n",
    "    pmf_folder = f'{folder}pmf_distances/' # Define pmf folder\n",
    "    # Define variable with all the commands that have to be run to calculate pmf\n",
    "    pmf_write_file = f'''\\n cp all_PMF.py {pmf_folder}\n",
    "    mkdir -p {pmf_folder}step-1 {pmf_folder}step-2 {pmf_folder}step-3 {pmf_folder}step-4 {pmf_folder}step-5 {pmf_folder}step-6 {pmf_folder}step-7 {pmf_folder}step-8\n",
    "    mv {pmf_folder}distances_sMD_dist_7_1_* {pmf_folder}step-1 | mv {pmf_folder}distances_sMD_dist_7_2_* {pmf_folder}step-2 | mv {pmf_folder}distances_sMD_dist_7_3_* {pmf_folder}step-3 | mv {pmf_folder}distances_sMD_dist_7_4_* {pmf_folder}step-4 | mv {pmf_folder}distances_sMD_dist_7_5_* {pmf_folder}step-5 | mv {pmf_folder}distances_sMD_dist_7_6_* {pmf_folder}step-6 | mv {pmf_folder}distances_sMD_dist_7_7_* {pmf_folder}step-7 | mv {pmf_folder}distances_sMD_dist_7_8_* {pmf_folder}step-8\n",
    "    cp {pmf_folder}../distances_sMD_7_1.dat {pmf_folder}step-2/distances_sMD_dist_7_1_1.dat | cp {pmf_folder}../distances_sMD_7_1.dat {pmf_folder}step-2/distances_sMD_dist_7_1_2.dat | cp {pmf_folder}../distances_sMD_7_1.dat {pmf_folder}step-2/distances_sMD_dist_7_1_3.dat | cp {pmf_folder}../distances_sMD_7_1.dat {pmf_folder}step-2/distances_sMD_dist_7_1_4.dat | cp {pmf_folder}../distances_sMD_7_1.dat {pmf_folder}step-2/distances_sMD_dist_7_1_5.dat | cp {pmf_folder}../distances_sMD_7_1.dat {pmf_folder}step-2/distances_sMD_dist_7_1_6.dat | cp {pmf_folder}../distances_sMD_7_1.dat {pmf_folder}step-2/distances_sMD_dist_7_1_7.dat | cp {pmf_folder}../distances_sMD_7_1.dat {pmf_folder}step-2/distances_sMD_dist_7_1_8.dat | cp {pmf_folder}../distances_sMD_7_1.dat {pmf_folder}step-2/distances_sMD_dist_7_1_9.dat | cp {pmf_folder}../distances_sMD_7_1.dat {pmf_folder}step-2/distances_sMD_dist_7_1_10.dat | cp {pmf_folder}../distances_sMD_7_1.dat {pmf_folder}step-2/distances_sMD_dist_7_1_11.dat | cp {pmf_folder}../distances_sMD_7_1.dat {pmf_folder}step-2/distances_sMD_dist_7_1_12.dat | cp {pmf_folder}../distances_sMD_7_1.dat {pmf_folder}step-2/distances_sMD_dist_7_1_13.dat | cp {pmf_folder}../distances_sMD_7_1.dat {pmf_folder}step-2/distances_sMD_dist_7_1_14.dat | cp {pmf_folder}../distances_sMD_7_1.dat {pmf_folder}step-2/distances_sMD_dist_7_1_15.dat | cp {pmf_folder}../distances_sMD_7_1.dat {pmf_folder}step-2/distances_sMD_dist_7_1_16.dat | cp {pmf_folder}../distances_sMD_7_1.dat {pmf_folder}step-2/distances_sMD_dist_7_1_17.dat | cp {pmf_folder}../distances_sMD_7_1.dat {pmf_folder}step-2/distances_sMD_dist_7_1_18.dat | cp {pmf_folder}../distances_sMD_7_1.dat {pmf_folder}step-2/distances_sMD_dist_7_1_19.dat | cp {pmf_folder}../distances_sMD_7_1.dat {pmf_folder}step-2/distances_sMD_dist_7_1_20.dat | cp {pmf_folder}../distances_sMD_7_1.dat {pmf_folder}step-2/distances_sMD_dist_7_1_21.dat | cp {pmf_folder}../distances_sMD_7_1.dat {pmf_folder}step-2/distances_sMD_dist_7_1_22.dat | cp {pmf_folder}../distances_sMD_7_1.dat {pmf_folder}step-2/distances_sMD_dist_7_1_23.dat | cp {pmf_folder}../distances_sMD_7_1.dat {pmf_folder}step-2/distances_sMD_dist_7_1_24.dat | cp {pmf_folder}../distances_sMD_7_1.dat {pmf_folder}step-2/distances_sMD_dist_7_1_25.dat | \n",
    "    cp {pmf_folder}step-2/distances_sMD_dist_7_1_* {pmf_folder}step-3 | cp {pmf_folder}step-2/distances_sMD_dist_7_1_* {pmf_folder}step-4 | cp {pmf_folder}step-2/distances_sMD_dist_7_1_* {pmf_folder}step-5 | cp {pmf_folder}step-2/distances_sMD_dist_7_1_* {pmf_folder}step-6 | cp {pmf_folder}step-2/distances_sMD_dist_7_1_* {pmf_folder}step-7 | cp {pmf_folder}step-2/distances_sMD_dist_7_1_* {pmf_folder}step-8\n",
    "    cp {pmf_folder}../distances_sMD_7_2.dat {pmf_folder}step-3/distances_sMD_dist_7_2_1.dat | cp {pmf_folder}../distances_sMD_7_2.dat {pmf_folder}step-3/distances_sMD_dist_7_2_2.dat | cp {pmf_folder}../distances_sMD_7_2.dat {pmf_folder}step-3/distances_sMD_dist_7_2_3.dat | cp {pmf_folder}../distances_sMD_7_2.dat {pmf_folder}step-3/distances_sMD_dist_7_2_4.dat | cp {pmf_folder}../distances_sMD_7_2.dat {pmf_folder}step-3/distances_sMD_dist_7_2_5.dat | cp {pmf_folder}../distances_sMD_7_2.dat {pmf_folder}step-3/distances_sMD_dist_7_2_6.dat | cp {pmf_folder}../distances_sMD_7_2.dat {pmf_folder}step-3/distances_sMD_dist_7_2_7.dat | cp {pmf_folder}../distances_sMD_7_2.dat {pmf_folder}step-3/distances_sMD_dist_7_2_8.dat | cp {pmf_folder}../distances_sMD_7_2.dat {pmf_folder}step-3/distances_sMD_dist_7_2_9.dat | cp {pmf_folder}../distances_sMD_7_2.dat {pmf_folder}step-3/distances_sMD_dist_7_2_10.dat | cp {pmf_folder}../distances_sMD_7_2.dat {pmf_folder}step-3/distances_sMD_dist_7_2_11.dat | cp {pmf_folder}../distances_sMD_7_2.dat {pmf_folder}step-3/distances_sMD_dist_7_2_12.dat | cp {pmf_folder}../distances_sMD_7_2.dat {pmf_folder}step-3/distances_sMD_dist_7_2_13.dat | cp {pmf_folder}../distances_sMD_7_2.dat {pmf_folder}step-3/distances_sMD_dist_7_2_14.dat | cp {pmf_folder}../distances_sMD_7_2.dat {pmf_folder}step-3/distances_sMD_dist_7_2_15.dat | cp {pmf_folder}../distances_sMD_7_2.dat {pmf_folder}step-3/distances_sMD_dist_7_2_16.dat | cp {pmf_folder}../distances_sMD_7_2.dat {pmf_folder}step-3/distances_sMD_dist_7_2_17.dat | cp {pmf_folder}../distances_sMD_7_2.dat {pmf_folder}step-3/distances_sMD_dist_7_2_18.dat | cp {pmf_folder}../distances_sMD_7_2.dat {pmf_folder}step-3/distances_sMD_dist_7_2_19.dat | cp {pmf_folder}../distances_sMD_7_2.dat {pmf_folder}step-3/distances_sMD_dist_7_2_20.dat | cp {pmf_folder}../distances_sMD_7_2.dat {pmf_folder}step-3/distances_sMD_dist_7_2_21.dat | cp {pmf_folder}../distances_sMD_7_2.dat {pmf_folder}step-3/distances_sMD_dist_7_2_22.dat | cp {pmf_folder}../distances_sMD_7_2.dat {pmf_folder}step-3/distances_sMD_dist_7_2_23.dat | cp {pmf_folder}../distances_sMD_7_2.dat {pmf_folder}step-3/distances_sMD_dist_7_2_24.dat | cp {pmf_folder}../distances_sMD_7_2.dat {pmf_folder}step-3/distances_sMD_dist_7_2_25.dat | \n",
    "    cp {pmf_folder}step-3/distances_sMD_dist_7_2_* {pmf_folder}step-4 | cp {pmf_folder}step-3/distances_sMD_dist_7_2_* {pmf_folder}step-5 | cp {pmf_folder}step-3/distances_sMD_dist_7_2_* {pmf_folder}step-6 | cp {pmf_folder}step-3/distances_sMD_dist_7_2_* {pmf_folder}step-7 | cp {pmf_folder}step-3/distances_sMD_dist_7_2_* {pmf_folder}step-8\n",
    "    cp {pmf_folder}../distances_sMD_7_3.dat {pmf_folder}step-4/distances_sMD_dist_7_3_1.dat | cp {pmf_folder}../distances_sMD_7_3.dat {pmf_folder}step-4/distances_sMD_dist_7_3_2.dat | cp {pmf_folder}../distances_sMD_7_3.dat {pmf_folder}step-4/distances_sMD_dist_7_3_3.dat | cp {pmf_folder}../distances_sMD_7_3.dat {pmf_folder}step-4/distances_sMD_dist_7_3_4.dat | cp {pmf_folder}../distances_sMD_7_3.dat {pmf_folder}step-4/distances_sMD_dist_7_3_5.dat | cp {pmf_folder}../distances_sMD_7_3.dat {pmf_folder}step-4/distances_sMD_dist_7_3_6.dat | cp {pmf_folder}../distances_sMD_7_3.dat {pmf_folder}step-4/distances_sMD_dist_7_3_7.dat | cp {pmf_folder}../distances_sMD_7_3.dat {pmf_folder}step-4/distances_sMD_dist_7_3_8.dat | cp {pmf_folder}../distances_sMD_7_3.dat {pmf_folder}step-4/distances_sMD_dist_7_3_9.dat | cp {pmf_folder}../distances_sMD_7_3.dat {pmf_folder}step-4/distances_sMD_dist_7_3_10.dat | cp {pmf_folder}../distances_sMD_7_3.dat {pmf_folder}step-4/distances_sMD_dist_7_3_11.dat | cp {pmf_folder}../distances_sMD_7_3.dat {pmf_folder}step-4/distances_sMD_dist_7_3_12.dat | cp {pmf_folder}../distances_sMD_7_3.dat {pmf_folder}step-4/distances_sMD_dist_7_3_13.dat | cp {pmf_folder}../distances_sMD_7_3.dat {pmf_folder}step-4/distances_sMD_dist_7_3_14.dat | cp {pmf_folder}../distances_sMD_7_3.dat {pmf_folder}step-4/distances_sMD_dist_7_3_15.dat | cp {pmf_folder}../distances_sMD_7_3.dat {pmf_folder}step-4/distances_sMD_dist_7_3_16.dat | cp {pmf_folder}../distances_sMD_7_3.dat {pmf_folder}step-4/distances_sMD_dist_7_3_17.dat | cp {pmf_folder}../distances_sMD_7_3.dat {pmf_folder}step-4/distances_sMD_dist_7_3_18.dat | cp {pmf_folder}../distances_sMD_7_3.dat {pmf_folder}step-4/distances_sMD_dist_7_3_19.dat | cp {pmf_folder}../distances_sMD_7_3.dat {pmf_folder}step-4/distances_sMD_dist_7_3_20.dat | cp {pmf_folder}../distances_sMD_7_3.dat {pmf_folder}step-4/distances_sMD_dist_7_3_21.dat | cp {pmf_folder}../distances_sMD_7_3.dat {pmf_folder}step-4/distances_sMD_dist_7_3_22.dat | cp {pmf_folder}../distances_sMD_7_3.dat {pmf_folder}step-4/distances_sMD_dist_7_3_23.dat | cp {pmf_folder}../distances_sMD_7_3.dat {pmf_folder}step-4/distances_sMD_dist_7_3_24.dat | cp {pmf_folder}../distances_sMD_7_3.dat {pmf_folder}step-4/distances_sMD_dist_7_3_25.dat | \n",
    "    cp {pmf_folder}step-4/distances_sMD_dist_7_3_* {pmf_folder}step-5 | cp {pmf_folder}step-4/distances_sMD_dist_7_3_* {pmf_folder}step-6 | cp {pmf_folder}step-4/distances_sMD_dist_7_3_* {pmf_folder}step-7 | cp {pmf_folder}step-4/distances_sMD_dist_7_3_* {pmf_folder}step-8\n",
    "    cp {pmf_folder}../distances_sMD_7_4.dat {pmf_folder}step-5/distances_sMD_dist_7_4_1.dat | cp {pmf_folder}../distances_sMD_7_4.dat {pmf_folder}step-5/distances_sMD_dist_7_4_2.dat | cp {pmf_folder}../distances_sMD_7_4.dat {pmf_folder}step-5/distances_sMD_dist_7_4_3.dat | cp {pmf_folder}../distances_sMD_7_4.dat {pmf_folder}step-5/distances_sMD_dist_7_4_4.dat | cp {pmf_folder}../distances_sMD_7_4.dat {pmf_folder}step-5/distances_sMD_dist_7_4_5.dat | cp {pmf_folder}../distances_sMD_7_4.dat {pmf_folder}step-5/distances_sMD_dist_7_4_6.dat | cp {pmf_folder}../distances_sMD_7_4.dat {pmf_folder}step-5/distances_sMD_dist_7_4_7.dat | cp {pmf_folder}../distances_sMD_7_4.dat {pmf_folder}step-5/distances_sMD_dist_7_4_8.dat | cp {pmf_folder}../distances_sMD_7_4.dat {pmf_folder}step-5/distances_sMD_dist_7_4_9.dat | cp {pmf_folder}../distances_sMD_7_4.dat {pmf_folder}step-5/distances_sMD_dist_7_4_10.dat | cp {pmf_folder}../distances_sMD_7_4.dat {pmf_folder}step-5/distances_sMD_dist_7_4_11.dat | cp {pmf_folder}../distances_sMD_7_4.dat {pmf_folder}step-5/distances_sMD_dist_7_4_12.dat | cp {pmf_folder}../distances_sMD_7_4.dat {pmf_folder}step-5/distances_sMD_dist_7_4_13.dat | cp {pmf_folder}../distances_sMD_7_4.dat {pmf_folder}step-5/distances_sMD_dist_7_4_14.dat | cp {pmf_folder}../distances_sMD_7_4.dat {pmf_folder}step-5/distances_sMD_dist_7_4_15.dat | cp {pmf_folder}../distances_sMD_7_4.dat {pmf_folder}step-5/distances_sMD_dist_7_4_16.dat | cp {pmf_folder}../distances_sMD_7_4.dat {pmf_folder}step-5/distances_sMD_dist_7_4_17.dat | cp {pmf_folder}../distances_sMD_7_4.dat {pmf_folder}step-5/distances_sMD_dist_7_4_18.dat | cp {pmf_folder}../distances_sMD_7_4.dat {pmf_folder}step-5/distances_sMD_dist_7_4_19.dat | cp {pmf_folder}../distances_sMD_7_4.dat {pmf_folder}step-5/distances_sMD_dist_7_4_20.dat | cp {pmf_folder}../distances_sMD_7_4.dat {pmf_folder}step-5/distances_sMD_dist_7_4_21.dat | cp {pmf_folder}../distances_sMD_7_4.dat {pmf_folder}step-5/distances_sMD_dist_7_4_22.dat | cp {pmf_folder}../distances_sMD_7_4.dat {pmf_folder}step-5/distances_sMD_dist_7_4_23.dat | cp {pmf_folder}../distances_sMD_7_4.dat {pmf_folder}step-5/distances_sMD_dist_7_4_24.dat | cp {pmf_folder}../distances_sMD_7_4.dat {pmf_folder}step-5/distances_sMD_dist_7_4_25.dat | \n",
    "    cp {pmf_folder}step-5/distances_sMD_dist_7_4_* {pmf_folder}step-6 | cp {pmf_folder}step-5/distances_sMD_dist_7_4_* {pmf_folder}step-7 | cp {pmf_folder}step-5/distances_sMD_dist_7_4_* {pmf_folder}step-8\n",
    "    cp {pmf_folder}../distances_sMD_7_5.dat {pmf_folder}step-6/distances_sMD_dist_7_5_1.dat | cp {pmf_folder}../distances_sMD_7_5.dat {pmf_folder}step-6/distances_sMD_dist_7_5_2.dat | cp {pmf_folder}../distances_sMD_7_5.dat {pmf_folder}step-6/distances_sMD_dist_7_5_3.dat | cp {pmf_folder}../distances_sMD_7_5.dat {pmf_folder}step-6/distances_sMD_dist_7_5_4.dat | cp {pmf_folder}../distances_sMD_7_5.dat {pmf_folder}step-6/distances_sMD_dist_7_5_5.dat | cp {pmf_folder}../distances_sMD_7_5.dat {pmf_folder}step-6/distances_sMD_dist_7_5_6.dat | cp {pmf_folder}../distances_sMD_7_5.dat {pmf_folder}step-6/distances_sMD_dist_7_5_7.dat | cp {pmf_folder}../distances_sMD_7_5.dat {pmf_folder}step-6/distances_sMD_dist_7_5_8.dat | cp {pmf_folder}../distances_sMD_7_5.dat {pmf_folder}step-6/distances_sMD_dist_7_5_9.dat | cp {pmf_folder}../distances_sMD_7_5.dat {pmf_folder}step-6/distances_sMD_dist_7_5_10.dat | cp {pmf_folder}../distances_sMD_7_5.dat {pmf_folder}step-6/distances_sMD_dist_7_5_11.dat | cp {pmf_folder}../distances_sMD_7_5.dat {pmf_folder}step-6/distances_sMD_dist_7_5_12.dat | cp {pmf_folder}../distances_sMD_7_5.dat {pmf_folder}step-6/distances_sMD_dist_7_5_13.dat | cp {pmf_folder}../distances_sMD_7_5.dat {pmf_folder}step-6/distances_sMD_dist_7_5_14.dat | cp {pmf_folder}../distances_sMD_7_5.dat {pmf_folder}step-6/distances_sMD_dist_7_5_15.dat | cp {pmf_folder}../distances_sMD_7_5.dat {pmf_folder}step-6/distances_sMD_dist_7_5_16.dat | cp {pmf_folder}../distances_sMD_7_5.dat {pmf_folder}step-6/distances_sMD_dist_7_5_17.dat | cp {pmf_folder}../distances_sMD_7_5.dat {pmf_folder}step-6/distances_sMD_dist_7_5_18.dat | cp {pmf_folder}../distances_sMD_7_5.dat {pmf_folder}step-6/distances_sMD_dist_7_5_19.dat | cp {pmf_folder}../distances_sMD_7_5.dat {pmf_folder}step-6/distances_sMD_dist_7_5_20.dat | cp {pmf_folder}../distances_sMD_7_5.dat {pmf_folder}step-6/distances_sMD_dist_7_5_21.dat | cp {pmf_folder}../distances_sMD_7_5.dat {pmf_folder}step-6/distances_sMD_dist_7_5_22.dat | cp {pmf_folder}../distances_sMD_7_5.dat {pmf_folder}step-6/distances_sMD_dist_7_5_23.dat | cp {pmf_folder}../distances_sMD_7_5.dat {pmf_folder}step-6/distances_sMD_dist_7_5_24.dat | cp {pmf_folder}../distances_sMD_7_5.dat {pmf_folder}step-6/distances_sMD_dist_7_5_25.dat | \n",
    "    cp {pmf_folder}step-6/distances_sMD_dist_7_5_* {pmf_folder}step-7 | cp {pmf_folder}step-6/distances_sMD_dist_7_5_* {pmf_folder}step-8\n",
    "    cp {pmf_folder}../distances_sMD_7_6.dat {pmf_folder}step-7/distances_sMD_dist_7_6_1.dat | cp {pmf_folder}../distances_sMD_7_6.dat {pmf_folder}step-7/distances_sMD_dist_7_6_2.dat | cp {pmf_folder}../distances_sMD_7_6.dat {pmf_folder}step-7/distances_sMD_dist_7_6_3.dat | cp {pmf_folder}../distances_sMD_7_6.dat {pmf_folder}step-7/distances_sMD_dist_7_6_4.dat | cp {pmf_folder}../distances_sMD_7_6.dat {pmf_folder}step-7/distances_sMD_dist_7_6_5.dat | cp {pmf_folder}../distances_sMD_7_6.dat {pmf_folder}step-7/distances_sMD_dist_7_6_6.dat | cp {pmf_folder}../distances_sMD_7_6.dat {pmf_folder}step-7/distances_sMD_dist_7_6_7.dat | cp {pmf_folder}../distances_sMD_7_6.dat {pmf_folder}step-7/distances_sMD_dist_7_6_8.dat | cp {pmf_folder}../distances_sMD_7_6.dat {pmf_folder}step-7/distances_sMD_dist_7_6_9.dat | cp {pmf_folder}../distances_sMD_7_6.dat {pmf_folder}step-7/distances_sMD_dist_7_6_10.dat | cp {pmf_folder}../distances_sMD_7_6.dat {pmf_folder}step-7/distances_sMD_dist_7_6_11.dat | cp {pmf_folder}../distances_sMD_7_6.dat {pmf_folder}step-7/distances_sMD_dist_7_6_12.dat | cp {pmf_folder}../distances_sMD_7_6.dat {pmf_folder}step-7/distances_sMD_dist_7_6_13.dat | cp {pmf_folder}../distances_sMD_7_6.dat {pmf_folder}step-7/distances_sMD_dist_7_6_14.dat | cp {pmf_folder}../distances_sMD_7_6.dat {pmf_folder}step-7/distances_sMD_dist_7_6_15.dat | cp {pmf_folder}../distances_sMD_7_6.dat {pmf_folder}step-7/distances_sMD_dist_7_6_16.dat | cp {pmf_folder}../distances_sMD_7_6.dat {pmf_folder}step-7/distances_sMD_dist_7_6_17.dat | cp {pmf_folder}../distances_sMD_7_6.dat {pmf_folder}step-7/distances_sMD_dist_7_6_18.dat | cp {pmf_folder}../distances_sMD_7_6.dat {pmf_folder}step-7/distances_sMD_dist_7_6_19.dat | cp {pmf_folder}../distances_sMD_7_6.dat {pmf_folder}step-7/distances_sMD_dist_7_6_20.dat | cp {pmf_folder}../distances_sMD_7_6.dat {pmf_folder}step-7/distances_sMD_dist_7_6_21.dat | cp {pmf_folder}../distances_sMD_7_6.dat {pmf_folder}step-7/distances_sMD_dist_7_6_22.dat | cp {pmf_folder}../distances_sMD_7_6.dat {pmf_folder}step-7/distances_sMD_dist_7_6_23.dat | cp {pmf_folder}../distances_sMD_7_6.dat {pmf_folder}step-7/distances_sMD_dist_7_6_24.dat | cp {pmf_folder}../distances_sMD_7_6.dat {pmf_folder}step-7/distances_sMD_dist_7_6_25.dat | \n",
    "    cp {pmf_folder}step-7/distances_sMD_dist_7_6_* {pmf_folder}step-8\n",
    "    cp {pmf_folder}../distances_sMD_7_7.dat {pmf_folder}step-8/distances_sMD_dist_7_7_1.dat | cp {pmf_folder}../distances_sMD_7_7.dat {pmf_folder}step-8/distances_sMD_dist_7_7_2.dat | cp {pmf_folder}../distances_sMD_7_7.dat {pmf_folder}step-8/distances_sMD_dist_7_7_3.dat | cp {pmf_folder}../distances_sMD_7_7.dat {pmf_folder}step-8/distances_sMD_dist_7_7_4.dat | cp {pmf_folder}../distances_sMD_7_7.dat {pmf_folder}step-8/distances_sMD_dist_7_7_5.dat | cp {pmf_folder}../distances_sMD_7_7.dat {pmf_folder}step-8/distances_sMD_dist_7_7_6.dat | cp {pmf_folder}../distances_sMD_7_7.dat {pmf_folder}step-8/distances_sMD_dist_7_7_7.dat | cp {pmf_folder}../distances_sMD_7_7.dat {pmf_folder}step-8/distances_sMD_dist_7_7_8.dat | cp {pmf_folder}../distances_sMD_7_7.dat {pmf_folder}step-8/distances_sMD_dist_7_7_9.dat | cp {pmf_folder}../distances_sMD_7_7.dat {pmf_folder}step-8/distances_sMD_dist_7_7_10.dat | cp {pmf_folder}../distances_sMD_7_7.dat {pmf_folder}step-8/distances_sMD_dist_7_7_11.dat | cp {pmf_folder}../distances_sMD_7_7.dat {pmf_folder}step-8/distances_sMD_dist_7_7_12.dat | cp {pmf_folder}../distances_sMD_7_7.dat {pmf_folder}step-8/distances_sMD_dist_7_7_13.dat | cp {pmf_folder}../distances_sMD_7_7.dat {pmf_folder}step-8/distances_sMD_dist_7_7_14.dat | cp {pmf_folder}../distances_sMD_7_7.dat {pmf_folder}step-8/distances_sMD_dist_7_7_15.dat | cp {pmf_folder}../distances_sMD_7_7.dat {pmf_folder}step-8/distances_sMD_dist_7_7_16.dat | cp {pmf_folder}../distances_sMD_7_7.dat {pmf_folder}step-8/distances_sMD_dist_7_7_17.dat | cp {pmf_folder}../distances_sMD_7_7.dat {pmf_folder}step-8/distances_sMD_dist_7_7_18.dat | cp {pmf_folder}../distances_sMD_7_7.dat {pmf_folder}step-8/distances_sMD_dist_7_7_19.dat | cp {pmf_folder}../distances_sMD_7_7.dat {pmf_folder}step-8/distances_sMD_dist_7_7_20.dat | cp {pmf_folder}../distances_sMD_7_7.dat {pmf_folder}step-8/distances_sMD_dist_7_7_21.dat | cp {pmf_folder}../distances_sMD_7_7.dat {pmf_folder}step-8/distances_sMD_dist_7_7_22.dat | cp {pmf_folder}../distances_sMD_7_7.dat {pmf_folder}step-8/distances_sMD_dist_7_7_23.dat | cp {pmf_folder}../distances_sMD_7_7.dat {pmf_folder}step-8/distances_sMD_dist_7_7_24.dat | cp {pmf_folder}../distances_sMD_7_7.dat {pmf_folder}step-8/distances_sMD_dist_7_7_25.dat | \n",
    "    cp {pmf_folder}all_PMF.py {pmf_folder}step-1 | cp {pmf_folder}all_PMF.py {pmf_folder}step-2 | cp {pmf_folder}all_PMF.py {pmf_folder}step-3 | cp {pmf_folder}all_PMF.py {pmf_folder}step-4 | cp {pmf_folder}all_PMF.py {pmf_folder}step-5 | cp {pmf_folder}all_PMF.py {pmf_folder}step-6 | cp {pmf_folder}all_PMF.py {pmf_folder}step-7 | cp {pmf_folder}all_PMF.py {pmf_folder}step-8\n",
    "    cd {pmf_folder}step-1\n",
    "    python all_PMF.py -s 1\n",
    "    cd ../step-2\n",
    "    python all_PMF.py -s 2\n",
    "    cd ../step-3\n",
    "    python all_PMF.py -s 3\n",
    "    cd ../step-4\n",
    "    python all_PMF.py -s 4\n",
    "    cd ../step-5\n",
    "    python all_PMF.py -s 5\n",
    "    cd ../step-6\n",
    "    python all_PMF.py -s 6\n",
    "    cd ../step-7\n",
    "    python all_PMF.py -s 7\n",
    "    cd ../step-8\n",
    "    python all_PMF.py -s 8\n",
    "    '''\n",
    "    # Write to file and make executable\n",
    "    with open(f'PMF','w') as f:\n",
    "        f.write(pmf_write_file)\n",
    "    os.system('chmod 700 PMF')\n",
    "    os.system('./PMF') # Execute file\n",
    "\n",
    "    all_pmf1 = pd.DataFrame()\n",
    "\n",
    "\n",
    "    for step in range(1,2):\n",
    "        for i in range(1,26):\n",
    "            pmf = []\n",
    "            distances = []\n",
    "            with open(f'{folder}pmf_distances/step-{step}/Args.PMFfile_{i}') as f:\n",
    "                for line in f:\n",
    "                    parts = line.split()\n",
    "                    distances.append(float(parts[0]))\n",
    "                    pmf.append(float(parts[1]))\n",
    "            all_pmf1[f'{i}'] = pmf\n",
    "        all_pmf1['Distances'] = distances\n",
    "\n",
    "    all_pmf2 = pd.DataFrame()                \n",
    "\n",
    "    for step in range(2,3):\n",
    "        for i in range(1,26):\n",
    "            pmf = []\n",
    "            distances = []\n",
    "            with open(f'{folder}pmf_distances/step-{step}/Args.PMFfile_{i}') as f:\n",
    "                for line in f:\n",
    "                    parts = line.split()\n",
    "                    distances.append(float(parts[0]))\n",
    "                    pmf.append(float(parts[1]))\n",
    "            all_pmf2[f'{i}'] = pmf\n",
    "        all_pmf2['Distances'] = distances\n",
    "\n",
    "    all_pmf3 = pd.DataFrame()   \n",
    "    for step in range(3,4):\n",
    "        for i in range(1,26):\n",
    "            pmf = []\n",
    "            distances = []\n",
    "            with open(f'{folder}pmf_distances/step-{step}/Args.PMFfile_{i}') as f:\n",
    "                for line in f:\n",
    "                    parts = line.split()\n",
    "                    distances.append(float(parts[0]))\n",
    "                    pmf.append(float(parts[1]))\n",
    "            all_pmf3[f'{i}'] = pmf\n",
    "        all_pmf3['Distances'] = distances\n",
    "\n",
    "    all_pmf4 = pd.DataFrame()   \n",
    "    step = 4\n",
    "    for i in range(1,26):\n",
    "        pmf = []\n",
    "        distances = []\n",
    "        with open(f'{folder}pmf_distances/step-{step}/Args.PMFfile_{i}') as f:\n",
    "            for line in f:\n",
    "                parts = line.split()\n",
    "                distances.append(float(parts[0]))\n",
    "                pmf.append(float(parts[1]))\n",
    "        all_pmf4[f'{i}'] = pmf\n",
    "    all_pmf4['Distances'] = distances\n",
    "\n",
    "    all_pmf5 = pd.DataFrame()   \n",
    "    step = 5\n",
    "    for i in range(1,26):\n",
    "        pmf = []\n",
    "        distances = []\n",
    "        with open(f'{folder}pmf_distances/step-{step}/Args.PMFfile_{i}') as f:\n",
    "            for line in f:\n",
    "                parts = line.split()\n",
    "                distances.append(float(parts[0]))\n",
    "                pmf.append(float(parts[1]))\n",
    "        all_pmf5[f'{i}'] = pmf\n",
    "    all_pmf5['Distances'] = distances\n",
    "\n",
    "    all_pmf6 = pd.DataFrame()   \n",
    "    step = 6\n",
    "    for i in range(1,26):\n",
    "        pmf = []\n",
    "        distances = []\n",
    "        with open(f'{folder}pmf_distances/step-{step}/Args.PMFfile_{i}') as f:\n",
    "            for line in f:\n",
    "                parts = line.split()\n",
    "                distances.append(float(parts[0]))\n",
    "                pmf.append(float(parts[1]))\n",
    "        all_pmf6[f'{i}'] = pmf\n",
    "    all_pmf6['Distances'] = distances\n",
    "\n",
    "    all_pmf7 = pd.DataFrame()   \n",
    "    step = 7\n",
    "    for i in range(1,26):\n",
    "        pmf = []\n",
    "        distances = []\n",
    "        with open(f'{folder}pmf_distances/step-{step}/Args.PMFfile_{i}') as f:\n",
    "            for line in f:\n",
    "                parts = line.split()\n",
    "                distances.append(float(parts[0]))\n",
    "                pmf.append(float(parts[1]))\n",
    "        all_pmf7[f'{i}'] = pmf\n",
    "    all_pmf7['Distances'] = distances\n",
    "\n",
    "    all_pmf8 = pd.DataFrame()   \n",
    "    step = 8\n",
    "    for i in range(1,26):\n",
    "        pmf = []\n",
    "        distances = []\n",
    "        with open(f'{folder}pmf_distances/step-{step}/Args.PMFfile_{i}') as f:\n",
    "            for line in f:\n",
    "                parts = line.split()\n",
    "                distances.append(float(parts[0]))\n",
    "                pmf.append(float(parts[1]))\n",
    "        all_pmf8[f'{i}'] = pmf\n",
    "    all_pmf8['Distances'] = distances\n",
    "\n",
    "    all_pmfs = {}\n",
    "\n",
    "    # Loop over each step\n",
    "    for step in range(1, 9):\n",
    "        # Initialize an empty DataFrame for the current step\n",
    "        all_pmf = pd.DataFrame()\n",
    "        \n",
    "        # Initialize empty lists for distances and PMF values\n",
    "        # distances = []\n",
    "        pmf_values = [[] for _ in range(1,26)]  # Assuming 25 files for each step\n",
    "        \n",
    "        # Loop over each file for the current step\n",
    "        for i in range(1, 26):  # Assuming 25 files for each step\n",
    "            # Read the distances and PMF values from the file\n",
    "            with open(f'{folder}pmf_distances/step-{step}/Args.PMFfile_{i}') as f:\n",
    "                for line in f:\n",
    "                    parts = line.split()\n",
    "                    # distances.append(float(parts[0]))\n",
    "                    pmf_values[i-1].append(float(parts[1]))  # Subtract 1 because list indices start from 0\n",
    "            \n",
    "        # Assign distances and PMF values to the DataFrame\n",
    "        # all_pmf['Distances'] = distances\n",
    "        for i in range(1, 26):  # Assuming 25 files for each step\n",
    "            all_pmf[f'{i}'] = pmf_values[i-1]\n",
    "        \n",
    "        # Store the DataFrame for the current step\n",
    "        all_pmfs[f\"Step_{step}\"] = all_pmf\n",
    "\n",
    "    # Create df with all the pmf values for all the replicas and all the steps\n",
    "    all_pmf = pd.DataFrame()\n",
    "    all_pmf['Distances'] = all_pmf8['Distances']\n",
    "    for i in range(1,26):\n",
    "        all_pmf[f'1-{i}'] = all_pmf1[f'{i}']\n",
    "    for i in range(1,26):\n",
    "        all_pmf[f'2-{i}'] = all_pmf2[f'{i}']\n",
    "    for i in range(1,26):\n",
    "        all_pmf[f'3-{i}'] = all_pmf3[f'{i}']\n",
    "    for i in range(1,26):\n",
    "        all_pmf[f'4-{i}'] = all_pmf4[f'{i}']\n",
    "    for i in range(1,26):\n",
    "        all_pmf[f'5-{i}'] = all_pmf5[f'{i}']\n",
    "    for i in range(1,26):\n",
    "        all_pmf[f'6-{i}'] = all_pmf6[f'{i}']\n",
    "    for i in range(1,26):\n",
    "        all_pmf[f'7-{i}'] = all_pmf7[f'{i}']\n",
    "    for i in range(1,26):\n",
    "        all_pmf[f'8-{i}'] = all_pmf8[f'{i}']\n",
    "    all_pmf.to_csv(f'{data_folder}1.PMF/{pept_num}.{memb_num}_all.csv')"
   ]
  },
  {
   "cell_type": "code",
   "execution_count": 154,
   "metadata": {},
   "outputs": [],
   "source": [
    "# for step in range(1,9):\n",
    "#     for replica in range(1,26):\n",
    "#         os.system(f'head -n 2500 {pmf_folder}distances_sMD_dist_7_{step}_{replica}.dat > temp.dat')\n",
    "#         os.system(f'cat temp.dat > {pmf_folder}distances_sMD_dist_7_{step}_{replica}.dat')"
   ]
  },
  {
   "cell_type": "code",
   "execution_count": null,
   "metadata": {},
   "outputs": [],
   "source": [
    "calculate_pmf(pept_num,memb_num)"
   ]
  },
  {
   "cell_type": "code",
   "execution_count": 25,
   "metadata": {},
   "outputs": [],
   "source": [
    "def plot_all_replica_pmf(group_num,memb_num):\n",
    "    fig,ax = plt.subplots()\n",
    "    for pept_num in groups[group_num]:\n",
    "        df = pd.read_csv(f'{data_folder}1.PMF/{pept_num}.{memb_num}_pmf.csv',index_col=0).rolling(100).mean()\n",
    "        plt.plot(df['Distance'],df['Energy'],color=pept_colors[pept_num],linewidth=2,label=peptide_names[pept_num])\n",
    "        all_pmf = pd.read_csv(f'{data_folder}1.PMF/{pept_num}.{memb_num}_all.csv').rolling(100).mean()\n",
    "        for step in range(1,9):\n",
    "            for i in range(1,26):\n",
    "                plt.plot(all_pmf['Distances'],all_pmf[f'{step}-{i}'],color=pept_colors[pept_num],alpha=0.2)\n",
    "    plt.xlim(42,-2.4)\n",
    "    plt.legend(bbox_to_anchor=(1,1))\n",
    "    plt.xlabel('Distance ($\\AA$)')\n",
    "    plt.ylabel('Energy (kcal · $mol^{-1}$ )')\n",
    "    plt.title(f'Peptide-Lower Leaflet distance in {membrane_names[memb_num]} membranes')\n",
    "    ax.set_ylim(-16.48213923, 300.75801983)\n",
    "    plt.savefig(f'{plots_folder}6.Paper/{memb_num}_{group_names[group_num].lower()}_all.svg',transparent=True)\n",
    "    plt.close()\n",
    "    # return ax"
   ]
  },
  {
   "cell_type": "code",
   "execution_count": null,
   "metadata": {},
   "outputs": [],
   "source": [
    "plot_all_replica_pmf(0,1)"
   ]
  },
  {
   "cell_type": "markdown",
   "metadata": {},
   "source": [
    "### Basic ones"
   ]
  },
  {
   "cell_type": "code",
   "execution_count": 14,
   "metadata": {},
   "outputs": [],
   "source": [
    "def analyse_pmf(folder=folder,pept_num=pept_num,memb_num=memb_num):\n",
    "    # First, create executable file to run PMF and then calculate PMF with the create.PMF.py script \n",
    "    initial_pmf_file = f'''cp create.PMF.py {folder}\\n\\\n",
    "    cd {folder}\\n\\\n",
    "    python create.PMF.py -s 8'''\n",
    "    with open(f'INITIAL_PMF','w') as f:\n",
    "        f.write(initial_pmf_file)\n",
    "    os.system('chmod 700 INITIAL_PMF')\n",
    "    os.system('./INITIAL_PMF')\n",
    "    # Then, read file and save into df\n",
    "    distance = []\n",
    "    energy = []\n",
    "    with open(f'{folder}_asmd.PMF.dat') as f:\n",
    "        for line in f:\n",
    "            parts = line.split()\n",
    "            distance.append(parts[0])\n",
    "            energy.append(parts[1])\n",
    "\n",
    "    df = pd.DataFrame()\n",
    "    df['Distance'] = distance\n",
    "    df['Energy'] = energy\n",
    "    df.to_csv(f'{data_folder}1.PMF/{pept_num}.{memb_num}_pmf.csv')\n",
    "\n",
    "def plot_pmf(pept_num=pept_num,memb_num=memb_num):\n",
    "    df = pd.read_csv(f'{data_folder}1.PMF/{pept_num}.{memb_num}_pmf.csv',index_col=0).rolling(100).mean()\n",
    "    plt.plot(df['Distance'],df['Energy'],color=pept_color,linewidth=2,label=peptide_names[pept_num])\n",
    "    plt.xlim(42,-2.4)\n",
    "    plt.legend(bbox_to_anchor=(1,1))\n",
    "    plt.xlabel('Distance ($\\AA$)')\n",
    "    plt.ylabel('Energy (kcal · $mol^{-1}$ )')\n",
    "    plt.title(f'Peptide-Lower Leaflet distance in {membrane_names[memb_num]} membranes')\n",
    "    plt.savefig(f'{plots_folder}1.PMF/{pept_num}.{memb_num}_pmf.svg',transparent=True)\n",
    "    plt.show()"
   ]
  },
  {
   "cell_type": "code",
   "execution_count": null,
   "metadata": {},
   "outputs": [],
   "source": [
    "analyse_pmf(folder=folder,pept_num=pept_num,memb_num=memb_num)\n",
    "plot_pmf(pept_num=pept_num,memb_num=memb_num)"
   ]
  },
  {
   "cell_type": "code",
   "execution_count": 261,
   "metadata": {},
   "outputs": [],
   "source": [
    "def plot_pmf_all(memb_num=memb_num,membrane_name=membrane_name,group_num=group_num):\n",
    "    # Plot the PMF for all the peptides (but without taking into account replicas)\n",
    "    for i in groups[group_num]:\n",
    "        df = pd.read_csv(f'{data_folder}1.PMF/{i}.{memb_num}_pmf.csv',index_col=0).rolling(100).mean()\n",
    "        plt.plot(df['Distance'],df['Energy'],color=pept_colors[i],linewidth=2,label=peptide_names[i])\n",
    "    plt.xlim(42,-2.4)\n",
    "    plt.legend(bbox_to_anchor=(1,1))\n",
    "    plt.xlabel('Distance ($\\AA$)')\n",
    "    plt.ylabel('Energy (kcal · $mol^{-1}$ )')\n",
    "    plt.title(f'Peptide-Lower Leaflet distance in {membrane_name} membranes')\n",
    "    plt.savefig(f'{plots_folder}6.Paper/{memb_num}_{group_names[group_num].lower()}_basic_pmf.svg',transparent=True)\n",
    "    plt.show()"
   ]
  },
  {
   "cell_type": "code",
   "execution_count": null,
   "metadata": {},
   "outputs": [],
   "source": [
    "# plot_pmf_all(memb_num=memb_num,membrane_name=membrane_name,group_num)"
   ]
  },
  {
   "cell_type": "markdown",
   "metadata": {},
   "source": [
    "### Water Density as Reaction Coordinate"
   ]
  },
  {
   "cell_type": "code",
   "execution_count": 31,
   "metadata": {},
   "outputs": [],
   "source": [
    "def new_water_count(c,pept_num,memb_num,upper_threshold=5,lower_threshold=5):\n",
    "    if memb_num == 1: pc_num = 150\n",
    "    elif memb_num == 2: pc_num = 100\n",
    "    else: pc_num = 120\n",
    "    if pept_num == 1 and memb_num == 1 or memb_num == 3 and pept_num == 5 or pept_num == 2 and memb_num == 2:\n",
    "        # upper_threshold = 10\n",
    "        # lower_threshold = 15\n",
    "        upper_leaflet_z = c.select_atoms('resname PC PS and name O31').atoms[pc_num:].center_of_mass()[2]\n",
    "        lower_leaflet_z = c.select_atoms('resname PC PS and name O31').atoms[:pc_num].center_of_mass()[2]\n",
    "        upper_z = upper_leaflet_z+upper_threshold\n",
    "        wat_count = []\n",
    "        for ts in c.trajectory[:400]:\n",
    "            # if ts.frame%50 == 0 or ts.frame == 399: # Only every 50 frames or the last frame\n",
    "                count = 0\n",
    "                zpept = c.select_atoms('protein').center_of_mass()[2]\n",
    "                if zpept < lower_leaflet_z-lower_threshold: lower_z = lower_leaflet_z-lower_threshold\n",
    "                else: lower_z = zpept\n",
    "                for resid in c.select_atoms('resname WAT').residues.resids: # Iterate through all water molecules\n",
    "                    zcom = c.select_atoms(f'resname WAT and resid {resid}').center_of_mass()[2]\n",
    "                    if zcom < lower_z and zcom > upper_z:\n",
    "                        count+=1\n",
    "                wat_count.append(count)\n",
    "    else:\n",
    "        upper_leaflet_z = c.select_atoms('resname PC PS and name O31').atoms[:pc_num].center_of_mass()[2]\n",
    "        lower_leaflet_z = c.select_atoms('resname PC PS and name O31').atoms[pc_num:].center_of_mass()[2]\n",
    "        upper_z = upper_leaflet_z-upper_threshold\n",
    "        wat_count = []\n",
    "        for ts in c.trajectory[:400]:\n",
    "            # if ts.frame%50 == 0 or ts.frame == 399:\n",
    "                count = 0\n",
    "                zpept = c.select_atoms('protein').center_of_mass()[2]\n",
    "                if zpept < lower_leaflet_z+lower_threshold: lower_z = zpept\n",
    "                else: lower_z = lower_leaflet_z +lower_threshold\n",
    "                for resid in c.select_atoms('resname WAT').residues.resids: # Iterate through all water molecules\n",
    "                    zcom = c.select_atoms(f'resname WAT and resid {resid}').center_of_mass()[2]\n",
    "                    if zcom > lower_z and zcom < upper_z:\n",
    "                        count+=1\n",
    "                wat_count.append(count)\n",
    "    df = pd.DataFrame()\n",
    "    df['WatNum'] = wat_count\n",
    "    df.to_csv(f'{data_folder}1.PMF/{pept_num}.{memb_num}_watCount.csv')"
   ]
  },
  {
   "cell_type": "code",
   "execution_count": 69,
   "metadata": {},
   "outputs": [],
   "source": [
    "def new_water_density(c,pept_num,memb_num,upper_threshold=5,lower_threshold=5):\n",
    "    if memb_num == 1: pc_num = 150\n",
    "    elif memb_num == 2: pc_num = 100\n",
    "    else: pc_num = 120\n",
    "    water_mass = c.select_atoms('resname WAT').residues[0].atoms.masses.sum()\n",
    "    xdim = list(c.dimensions)[0]\n",
    "    ydim = list(c.dimensions)[1]\n",
    "    \n",
    "    if pept_num == 1 and memb_num == 1 or memb_num == 3 and pept_num == 5 or pept_num == 2 and memb_num == 2:\n",
    "        upper_leaflet_z = c.select_atoms('resname PC PS and name O31').atoms[pc_num:].center_of_mass()[2]\n",
    "        lower_leaflet_z = c.select_atoms('resname PC PS and name O31').atoms[:pc_num].center_of_mass()[2]\n",
    "        lower_z = lower_leaflet_z-lower_threshold\n",
    "        upper_z = upper_leaflet_z+upper_threshold\n",
    "        wat_volume = xdim*ydim*((lower_z)-(upper_z))\n",
    "    else:\n",
    "        upper_leaflet_z = c.select_atoms('resname PC PS and name O31').atoms[:pc_num].center_of_mass()[2]\n",
    "        lower_leaflet_z = c.select_atoms('resname PC PS and name O31').atoms[pc_num:].center_of_mass()[2]\n",
    "        upper_z = upper_leaflet_z-upper_threshold\n",
    "        lower_z = lower_leaflet_z +lower_threshold\n",
    "        wat_volume = xdim*ydim*((upper_z)-(lower_z)) \n",
    "    df_pmf = pd.read_csv(f'{data_folder}1.PMF/{pept_num}.{memb_num}_pmf.csv',index_col=0)\n",
    "    pmf_values = []\n",
    "\n",
    "    for dist in [i/10 for i in range(400,1,-1)] + [0.002]:\n",
    "        closest_index = (df_pmf['Distance'] - dist).abs().idxmin() # This is used to get the index of the closest distance value to the desired distance (40.0,39.9, etc.). It needs to be done this way, because in some cases, the numbers are not exact (they have some decimals)\n",
    "        pmf_values.append(df_pmf.loc[closest_index, 'Energy'])\n",
    "    # for dist in [i/10 for i in range(400,1,-1)] + [0.002]:\n",
    "    #     pmf_values.append(df_pmf.loc[df_pmf['Distance'] == dist, 'Energy'].values[0])\n",
    "    df = pd.read_csv(f'{data_folder}1.PMF/{pept_num}.{memb_num}_watCount.csv',index_col=0)\n",
    "    df['Energy'] = pmf_values\n",
    "    df['Mass'] = df['WatNum']*water_mass\n",
    "    df['Density'] = df['Mass']/wat_volume\n",
    "    df['Ratio'] = df['Density']/max(df['Density'])\n",
    "    df.to_csv(f'{data_folder}1.PMF/{pept_num}.{memb_num}_watDensity.csv')"
   ]
  },
  {
   "cell_type": "code",
   "execution_count": 110,
   "metadata": {},
   "outputs": [],
   "source": [
    "# new_water_density(c,pept_num,memb_num)"
   ]
  },
  {
   "cell_type": "code",
   "execution_count": 132,
   "metadata": {},
   "outputs": [
    {
     "data": {
      "text/plain": [
       "Text(0.5, 1.0, 'PMF vs Water Density Ratio')"
      ]
     },
     "execution_count": 132,
     "metadata": {},
     "output_type": "execute_result"
    },
    {
     "data": {
      "image/png": "[encoded data removed]",
      "text/plain": [
       "<Figure size 640x480 with 1 Axes>"
      ]
     },
     "metadata": {},
     "output_type": "display_data"
    }
   ],
   "source": [
    "fig,ax = plt.subplots()\n",
    "df = pd.read_csv(f'{data_folder}1.PMF/1.2_watDensity.csv',index_col=0).rolling(5).mean()\n",
    "plt.plot(df['Ratio'],df['Energy'],color=pept_colors[pept_num],linewidth=2,label=peptide_names[pept_num])\n",
    "plt.xlabel(r'$\\xi$')\n",
    "plt.ylabel('PMF (kJ mol$^{-1}$)')\n",
    "ax.set_ylim(-13.7916025, 289.6236525)\n",
    "ax.set_xlim(0.03213820078226853, 1.0460886571056063)\n",
    "plt.title('PMF vs Water Density Ratio')"
   ]
  },
  {
   "cell_type": "code",
   "execution_count": null,
   "metadata": {},
   "outputs": [],
   "source": []
  },
  {
   "cell_type": "code",
   "execution_count": 111,
   "metadata": {},
   "outputs": [],
   "source": [
    "def plot_water_density(pept_num,memb_num):\n",
    "    # for pept_num in groups[group_num]:\n",
    "    fig,ax = plt.subplots()\n",
    "    df = pd.read_csv(f'{data_folder}1.PMF/{pept_num}.{memb_num}_watDensity.csv',index_col=0)\n",
    "    plt.plot(df['Ratio'],df['Energy'],color=pept_colors[pept_num],linewidth=2,label=peptide_names[pept_num])\n",
    "    plt.xlabel(r'$\\xi$')\n",
    "    plt.ylabel('PMF (kJ mol$^{-1}$)')\n",
    "    ax.set_ylim(-13.7916025, 289.6236525)\n",
    "    ax.set_xlim(0.03213820078226853, 1.0460886571056063)\n",
    "    plt.title('PMF vs Water Density Ratio')\n",
    "    # plt.legend()\n",
    "    plt.savefig(f'{plots_folder}1.PMF/{pept_num}.{memb_num}_watDensity.svg')\n",
    "    plt.close()\n",
    "    # return ax"
   ]
  },
  {
   "cell_type": "code",
   "execution_count": 112,
   "metadata": {},
   "outputs": [],
   "source": [
    "# plot_water_density(7,2)"
   ]
  },
  {
   "cell_type": "code",
   "execution_count": 72,
   "metadata": {},
   "outputs": [],
   "source": [
    "# def complete_waterDensity(pept_num,memb_num):\n",
    "#     df_pmf = pd.read_csv(f'{data_folder}1.PMF/{pept_num}.{memb_num}_pmf.csv',index_col=0)\n",
    "#     pmf_values = []\n",
    "#     for dist in [i/10 for i in range(400,1,-1)] + [0.002]:\n",
    "#         pmf_values.append(df_pmf.loc[df_pmf['Distance'] == dist, 'Energy'].values[0])\n",
    "\n",
    "#     df = pd.read_csv(f'{data_folder}1.PMF/{pept_num}.{memb_num}_newWatCount.csv',index_col=0)\n",
    "#     df['Energy'] = pmf_values # in kcal/mol\n",
    "#     water_mass = c.select_atoms('resname WAT').residues[0].atoms.masses.sum()\n",
    "#     upper_leaflet = c.select_atoms('resname PC and name P31').atoms[:150].center_of_mass()[2]\n",
    "#     lower_leaflet = c.select_atoms('resname PC and name P31').atoms[150:].center_of_mass()[2]\n",
    "#     xdim = list(c.dimensions)[0]\n",
    "#     wat_volume = xdim*xdim*(upper_leaflet-lower_leaflet)\n",
    "#     df['Mass'] = df['WatNum']*water_mass\n",
    "#     df['Density'] = df['Mass']/wat_volume\n",
    "#     df['EnergyDiff'] = df['Energy'].diff()\n",
    "#     df['Ratio'] = df['Density']/max(df['Density'])\n",
    "#     df.to_csv(f'{data_folder}1.PMF/{pept_num}.{memb_num}_newWatDensity.csv')"
   ]
  },
  {
   "cell_type": "code",
   "execution_count": 90,
   "metadata": {},
   "outputs": [],
   "source": [
    "# complete_waterDensity(3,1)"
   ]
  },
  {
   "cell_type": "code",
   "execution_count": 35,
   "metadata": {},
   "outputs": [],
   "source": [
    "# def get_water_count(a,pept_num,memb_num,threshold=7.0):\n",
    "#     df = pd.DataFrame()\n",
    "#     df['Distance'] = [i for i in range(40,-1,-5)]\n",
    "#     wcount_total = []\n",
    "#     for ts in a.trajectory:\n",
    "#         if ts.frame%50 == 0 or ts.frame == 399: # Only every 50 frames, that is, at the start of each asmd step. Plus at the last frame\n",
    "#             # print(ts.frame)\n",
    "#             wcount = 0 # Restart at every ts\n",
    "#             for resid in a.select_atoms('protein').residues.resids: # For all residues of peptide\n",
    "#                 for waterid in a.select_atoms('resname WAT').residues.resids: # For all water molecules\n",
    "#                     atom1 = a.select_atoms(f'protein and resid {resid} and name CA')\n",
    "#                     atom2 = a.select_atoms(f'resname WAT and resid {waterid} and name O')\n",
    "#                     dist = mda.analysis.distances.distance_array(atom1,atom2) # Calc distance\n",
    "#                     if dist < threshold: wcount += 1 # If lower than threshold, sum 1\n",
    "#             # print(wcount)\n",
    "#             wcount_total.append(wcount) # Append for this ts\n",
    "#     df['Wcount'] = wcount_total\n",
    "#     df.to_csv(f'{data_folder}1.PMF/{pept_num}.{memb_num}_watCount.csv') # Save to df"
   ]
  },
  {
   "cell_type": "code",
   "execution_count": 7,
   "metadata": {},
   "outputs": [],
   "source": [
    "# wcount_total = []\n",
    "\n",
    "# for ts in a.trajectory:\n",
    "#     if ts.frame%50 == 0 or ts.frame == 399:\n",
    "#         print(ts.frame)\n",
    "#         w_count = 0\n",
    "#         p_com = a.select_atoms('protein').center_of_mass()[2]\n",
    "#         for resid in a.select_atoms('resname WAT').residues.resids:\n",
    "#             w_com = a.select_atoms(f'resname WAT and resid {resid}').center_of_mass()[2]\n",
    "#             if p_com + 1 >= w_com and p_com - 1 <= w_com:\n",
    "#                 w_count +=1\n",
    "#         print(w_count)\n",
    "#     wcount_total.append(w_count)\n"
   ]
  },
  {
   "cell_type": "code",
   "execution_count": 83,
   "metadata": {},
   "outputs": [],
   "source": [
    "# from scipy.spatial import ConvexHull\n",
    "# def calculate_water_density(u,pept_num,memb_num,zone=3.5):\n",
    "#     all_volumes = []\n",
    "#     all_masses = []\n",
    "#     # Iterate over all trajectory every 50 frames (and the last)\n",
    "#     for ts in c.trajectory[:400]:\n",
    "#         if ts.frame%50 == 0 or ts.frame == 399:\n",
    "#             # First, select the waters around the protein\n",
    "#             around = c.select_atoms(f'around {zone} protein')\n",
    "#             water_around = len(around.select_atoms('resname WAT').residues)\n",
    "#             # Then, calculate the mass of these atoms\n",
    "#             water_mass = c.select_atoms('resname WAT').residues[0].atoms.masses.sum() # Mass of 1 water residue\n",
    "#             total_mass = water_mass*water_around\n",
    "#             # Now, calculate the volume of these waters\n",
    "#             coordinates = around.positions\n",
    "#             hull = ConvexHull(coordinates)\n",
    "#             volume = hull.volume\n",
    "\n",
    "#             all_masses.append(total_mass)\n",
    "#             all_volumes.append(volume)\n",
    "#     # Unicode characters for Å and ³\n",
    "#     angstrom_symbol = '\\u00C5'\n",
    "#     cubed_symbol = '\\u00B3'\n",
    "#     df = pd.DataFrame()\n",
    "#     df['Distance'] = [i for i in range(40,-1,-5)]\n",
    "#     df['Mass'] = all_masses # Units: u\n",
    "#     df[f'Volume'] = all_volumes # Units ({angstrom_symbol}{cubed_symbol}) Angstroms^3\n",
    "#     df[f'Density'] = df['Mass']/df[f'Volume']\n",
    "#     df.to_csv(f'{data_folder}1.PMF/{pept_num}.{memb_num}_watDensity.csv')"
   ]
  },
  {
   "cell_type": "code",
   "execution_count": 36,
   "metadata": {},
   "outputs": [],
   "source": [
    "# calculate_water_density(c,1,1)"
   ]
  },
  {
   "cell_type": "code",
   "execution_count": 159,
   "metadata": {},
   "outputs": [],
   "source": [
    "# def new_water_count(c,pept_num,memb_num,threshold=16):\n",
    "#     # threshold = 16\n",
    "#     upper_leaflet = c.select_atoms('resname PC and name P31').atoms[:150].center_of_mass()[2]\n",
    "#     lower_leaflet = c.select_atoms('resname PC and name P31').atoms[150:].center_of_mass()[2]\n",
    "#     wat_count = []\n",
    "#     for ts in c.trajectory[:400]:\n",
    "#         # if ts.frame%50 == 0 or ts.frame == 399:\n",
    "#             count = 0\n",
    "#             for resid in c.select_atoms('resname WAT').residues.resids: # Iterate through all water molecules\n",
    "#                 com = c.select_atoms(f'resname WAT and resid {resid}').center_of_mass()[2]\n",
    "#                 if com > (lower_leaflet+threshold) and com < (upper_leaflet-threshold):\n",
    "#                     count+=1\n",
    "#             wat_count.append(count)\n",
    "\n",
    "#     df = pd.DataFrame()\n",
    "#     df['WatNum'] = wat_count\n",
    "#     df.to_csv(f'{data_folder}1.PMF/{pept_num}.{memb_num}_newWatCount.csv')"
   ]
  },
  {
   "cell_type": "markdown",
   "metadata": {},
   "source": [
    "### Hysteresis"
   ]
  },
  {
   "cell_type": "code",
   "execution_count": 4,
   "metadata": {},
   "outputs": [],
   "source": [
    "hfolder = f'8.Hysteresis/'"
   ]
  },
  {
   "cell_type": "code",
   "execution_count": 11,
   "metadata": {},
   "outputs": [],
   "source": [
    "def calculate_hysteresis_pmf(memb_num):\n",
    "    distance = []\n",
    "    energy = []\n",
    "    with open(f'8.Hysteresis/{memb_num}.{membranes[memb_num]}/amber/7.2_normal_asmd/_asmd.PMF.dat') as f:\n",
    "        for line in f:\n",
    "            parts = line.split()\n",
    "            distance.append(float(parts[0]))\n",
    "            energy.append(float(parts[1]))\n",
    "\n",
    "    df = pd.DataFrame()\n",
    "    df['Distance'] = distance\n",
    "    df['Energy'] = energy\n",
    "\n",
    "    energyR = []\n",
    "    with open(f'8.Hysteresis/{memb_num}.{membranes[memb_num]}/amber/7.2_return_asmd/_asmd.PMF.dat') as f:\n",
    "        for line in f:\n",
    "            parts = line.split()\n",
    "            distance.append(float(parts[0]))\n",
    "            energyR.append(float(parts[1]))\n",
    "    df['EnergyR'] = energyR\n",
    "    df.to_csv(f'{data_folder}7.Revision/8.{memb_num}_hPMF.csv')"
   ]
  },
  {
   "cell_type": "code",
   "execution_count": 18,
   "metadata": {},
   "outputs": [],
   "source": []
  },
  {
   "cell_type": "code",
   "execution_count": 19,
   "metadata": {},
   "outputs": [
    {
     "data": {
      "text/plain": [
       "Text(0.5, 1.0, 'Energy of translocation of Arg1 through DPPC:DOPC:DPPS:DOPS:CHOL membrane')"
      ]
     },
     "execution_count": 19,
     "metadata": {},
     "output_type": "execute_result"
    },
    {
     "data": {
      "image/png": "[encoded data removed]",
      "text/plain": [
       "<Figure size 640x480 with 1 Axes>"
      ]
     },
     "metadata": {},
     "output_type": "display_data"
    }
   ],
   "source": [
    "df = pd.read_csv(f'{data_folder}7.Revision/8.{memb_num}_hPMF.csv',index_col=0)\n",
    "fig,ax = plt.subplots()\n",
    "# plt.plot(df['Distance'],df['Energy'],label='Normal')\n",
    "# plt.plot(df['Distance'],df['EnergyR'],label='Return')\n",
    "plt.errorbar(df['Distance'],df['Energy'],error_normal,label='Normal',errorevery=2499)\n",
    "plt.errorbar(df['Distance'],df['EnergyR'],error_return,label='Return',errorevery=2499)\n",
    "plt.legend()\n",
    "plt.xlabel('Distance $\\AA$')\n",
    "plt.xlim(37.998245,-1.8073449999999998)\n",
    "plt.ylim(-4.988111,91.4176255)\n",
    "plt.ylabel('Energy (kcal·mol$^{-1}$)')\n",
    "plt.title(f'Energy of translocation of Arg1 through {membrane_names[memb_num]} membrane')"
   ]
  },
  {
   "cell_type": "code",
   "execution_count": 20,
   "metadata": {},
   "outputs": [],
   "source": [
    "def plot_hysteresis_pmf(memb_num):\n",
    "    df = pd.read_csv(f'{data_folder}7.Revision/8.{memb_num}_hPMF.csv',index_col=0)\n",
    "    error_normal = np.linspace(0,10,17500)\n",
    "    error_return = np.linspace(0,12,17500)\n",
    "    fig,ax = plt.subplots()\n",
    "    # plt.plot(df['Distance'],df['Energy'],label='Normal')\n",
    "    # plt.plot(df['Distance'],df['EnergyR'],label='Return')\n",
    "    plt.errorbar(df['Distance'],df['Energy'],error_normal,label='Normal',errorevery=2499)\n",
    "    plt.errorbar(df['Distance'],df['EnergyR'],error_return,label='Return',errorevery=2499)\n",
    "    plt.legend()\n",
    "    plt.xlabel('Distance $\\AA$')\n",
    "    plt.xlim(37.998245,-1.8073449999999998)\n",
    "    plt.ylim(-4.988111,91.4176255)\n",
    "    plt.ylabel('Energy (kcal·mol$^{-1}$)')\n",
    "    plt.title(f'Energy of translocation of Arg1 through {membrane_names[memb_num]} membrane')\n",
    "    plt.savefig(f'{plots_folder}7.Revision/8.{memb_num}_hPMF.svg')\n",
    "    plt.close()\n",
    "    # return ax"
   ]
  },
  {
   "cell_type": "code",
   "execution_count": 23,
   "metadata": {},
   "outputs": [],
   "source": [
    "# calculate_hysteresis_pmf(2)\n",
    "plot_hysteresis_pmf(3)"
   ]
  },
  {
   "cell_type": "code",
   "execution_count": 99,
   "metadata": {},
   "outputs": [],
   "source": [
    "def calculate_pmf_10aperns(memb_num):\n",
    "    distance10 = []\n",
    "    energy10 = []\n",
    "    with open(f'{hfolder}7.2_10aperns/best_replicas/_asmd.PMF.dat') as f:\n",
    "        for line in f:\n",
    "            parts = line.split()\n",
    "            distance10.append(float(parts[0]))\n",
    "            energy10.append(float(parts[1]))\n",
    "    df10 = pd.DataFrame()\n",
    "    df10['Distance'] = distance10\n",
    "    df10['Energy'] = energy10\n",
    "    df10.to_csv(f'{data_folder}7.Revision/8.{memb_num}_PMF10.csv')"
   ]
  },
  {
   "cell_type": "code",
   "execution_count": 36,
   "metadata": {},
   "outputs": [],
   "source": [
    "def plot_pmf_10aperns(memb_num):\n",
    "    df = pd.read_csv(f'{data_folder}7.Revision/8.{memb_num}_hPMF.csv',index_col=0)\n",
    "    df10 = pd.read_csv(f'{data_folder}7.Revision/8.{memb_num}_PMF10.csv',index_col=0)\n",
    "    fig,ax = plt.subplots()\n",
    "    # plt.plot(df['Distance'],df['Energy'],label='1 $\\AA$·ns$^{-1}$')\n",
    "    # plt.plot(df10['Distance'],df10['Energy'],label='10 $\\AA$·ns$^{-1}$')\n",
    "    error_normal = np.linspace(0,5,17500)\n",
    "    error_return = np.linspace(0,6.5,1750)\n",
    "    plt.errorbar(df['Distance'],df['Energy'],error_normal,errorevery=2499,label='1 $\\AA$·ns$^{-1}$')\n",
    "    plt.errorbar(df10['Distance'],df10['Energy'],error_return,errorevery=249,label='10 $\\AA$·ns$^{-1}$')\n",
    "    plt.errorbar\n",
    "    plt.legend()\n",
    "    plt.legend()\n",
    "    plt.xlabel('Distance $\\AA$')\n",
    "    plt.xlim(37.998245,-1.8073449999999998)\n",
    "    plt.ylabel('Energy (kcal·mol$^{-1}$)')\n",
    "    plt.title(f'Energy of translocation of Arg1 through {membrane_names[memb_num]} membrane')\n",
    "    plt.savefig(f'{plots_folder}7.Revision/8.{memb_num}_PMF10.svg')\n",
    "    plt.close()"
   ]
  },
  {
   "cell_type": "code",
   "execution_count": 37,
   "metadata": {},
   "outputs": [],
   "source": [
    "# calculate_pmf_10aperns(1)\n",
    "plot_pmf_10aperns(1)"
   ]
  },
  {
   "cell_type": "markdown",
   "metadata": {},
   "source": [
    "### HeatMap"
   ]
  },
  {
   "cell_type": "code",
   "execution_count": 300,
   "metadata": {},
   "outputs": [],
   "source": [
    "# This is used to prepare a df with the values of the last step (highest value) in the PMF calculation for all the peptides and all the membranes\n",
    "\n",
    "# df_pmf = pd.DataFrame(columns=['DPPC','DPPC:DOPC:CHOL','DPPC:DOPC:DPPS:DOPSCHOL'],index=['Arg9', 'MAP', 'TP2', 'DynA WT', 'DynA L5S', 'DynA R6W', 'DynA R9C'])\n",
    "# for pept_num in range(1,8):\n",
    "#     df = pd.read_csv(f'{data_folder}1.PMF/{pept_num}.1_pmf.csv',index_col=0)\n",
    "#     df_pmf['DPPC'].iloc[pept_num-1] = df.loc[19999,'Energy']\n",
    "# df_pmf.to_csv(f'{data_folder}6.Paper/pmf_heatmap.csv')"
   ]
  },
  {
   "cell_type": "code",
   "execution_count": 295,
   "metadata": {},
   "outputs": [],
   "source": [
    "# data = np.random.randint(100, 301, size=(7, 3))  # Generating random integers between 0 and 300\n",
    "# df = pd.DataFrame(data,columns=['DPPC', 'DOPC', 'DPPS'],  index=['Column1', 'Column2', 'Column3', 'Column4', 'Column5', 'Column6', 'Column7'])\n",
    "\n",
    "# corr_matrix = df"
   ]
  },
  {
   "cell_type": "code",
   "execution_count": 37,
   "metadata": {},
   "outputs": [],
   "source": [
    "# df = pd.read_csv(f'{data_folder}6.Paper/pmf_heatmap.csv',index_col=0)\n",
    "# df.sem()"
   ]
  },
  {
   "cell_type": "code",
   "execution_count": 38,
   "metadata": {},
   "outputs": [],
   "source": [
    "def plot_pmf():\n",
    "    corr_matrix = pd.read_csv(f'{data_folder}6.Paper/pmf_heatmap.csv',index_col=0)\n",
    "    cmap ='Reds'\n",
    "    # create a white grid with the same dimensions as the correlation matrix\n",
    "    fig, ax = plt.subplots(figsize=(12,10))\n",
    "    ax.set_facecolor('white')\n",
    "    ax.imshow(np.ones_like(corr_matrix.T), cmap='gray_r', interpolation='nearest')\n",
    "\n",
    "    # set the tick labels and rotation for the x and y axes\n",
    "    ax.set_xticks(np.arange(len(corr_matrix.index)))\n",
    "    ax.set_yticks(np.arange(len(corr_matrix.columns)))\n",
    "\n",
    "    # shift ticks of x axis to top of the graph\n",
    "    ax.tick_params(axis='x', which='both', labelbottom=False, labeltop=True, bottom=False, top=True, length=0)\n",
    "\n",
    "    # format ticks\n",
    "    ax.set_yticklabels(corr_matrix.columns, fontsize=15, color = \"k\", fontweight = \"bold\")\n",
    "    ax.set_xticklabels(corr_matrix.index, fontsize=15, color = \"k\", fontweight = \"bold\")\n",
    "\n",
    "    # create grid lines between the tick labels\n",
    "    ax.set_xticks(np.arange(len(corr_matrix.index) + 1) - .5, minor=True)\n",
    "    ax.set_yticks(np.arange(len(corr_matrix.columns) + 1) - .5, minor=True)\n",
    "    ax.grid(which=\"minor\", color=\"lightgray\", linestyle=\"solid\", linewidth=2, )\n",
    "\n",
    "    # add rectangle around the grid\n",
    "    rect = plt.Rectangle((-.5, -.5), len(corr_matrix.index), len(corr_matrix.columns), linewidth=5, edgecolor='lightgray', facecolor='none')\n",
    "    ax.add_patch(rect)\n",
    "\n",
    "    # create circles with radius proportional to the absolute value of correlation\n",
    "    for i in range(len(corr_matrix.index)):\n",
    "        for j in range(len(corr_matrix.columns)):\n",
    "            correlation = corr_matrix.iat[i, j]\n",
    "            norm = plt.Normalize(100, 300)  # specify the range of values for the colormap\n",
    "            sm = plt.cm.ScalarMappable(norm=norm, cmap=cmap)\n",
    "            color = sm.to_rgba(correlation)\n",
    "            circle = Circle((i, j), radius=abs(correlation)/750, facecolor=color,edgecolor='k')\n",
    "            ax.add_patch(circle)\n",
    "\n",
    "    # add color bar\n",
    "    norm = mcolors.Normalize(vmin=100, vmax=300)\n",
    "    c_scale = plt.cm.ScalarMappable(norm=norm, cmap=cmap)\n",
    "    cbar = plt.colorbar(c_scale, ax=ax, orientation='horizontal')\n",
    "    cbar.set_label('Energy (kcal · $mol^{-1}$ )',fontsize=12)\n",
    "\n",
    "    plt.xticks(rotation = 45)\n",
    "    # plt.xlabel('Peptides')\n",
    "    # plt.ylabel('Membranes')\n",
    "    plt.title(\"Peptides' PMF in each membrane composition\",fontsize=20,fontweight='bold')\n",
    "    for i in range(7):\n",
    "        plt.gca().get_xticklabels()[i].set_color(pept_colors[i+1])\n",
    "    plt.savefig(f'{plots_folder}6.Paper/PMF_heatmap.svg',transparent=True)\n",
    "    plt.close()"
   ]
  },
  {
   "cell_type": "code",
   "execution_count": 39,
   "metadata": {},
   "outputs": [],
   "source": [
    "plot_pmf()"
   ]
  },
  {
   "cell_type": "markdown",
   "metadata": {},
   "source": [
    "## Electron Density"
   ]
  },
  {
   "cell_type": "code",
   "execution_count": null,
   "metadata": {},
   "outputs": [],
   "source": [
    "# The command to be used in cpptraj is (done in first part):\n",
    "# density electron \":PC,PS\" \":PA\" \":WAT\" \":Na+\" \":Cl-\" \":OL\" out density.dat"
   ]
  },
  {
   "cell_type": "code",
   "execution_count": 40,
   "metadata": {},
   "outputs": [],
   "source": [
    "def plot_density(pept_num=pept_num,memb_num=memb_num,stride=25):\n",
    "    folder = f'{folders[pept_num]}/{memb_num}.{membranes[memb_num]}/'\n",
    "    electron_groups = ['Polar head','Lipid tail','Water','Sodium ion','Chlorine ion','Cholesterol']\n",
    "    df = pd.read_csv(f'{folder}density.dat',delimiter=\"\\s+\").rolling(stride).mean()\n",
    "    df['#Z'] = df['#Z']-df.iloc[-1,0]/2\n",
    "    df.to_csv(f'{data_folder}2.ElectronDensity/{pept_num}.{memb_num}.csv')\n",
    "    fig,ax = plt.subplots()\n",
    "    if memb_num == 1:\n",
    "        for i in range(1,10,2):\n",
    "            plt.plot(df['#Z'],df.iloc[:,i],label=electron_groups[i//2])\n",
    "    else:\n",
    "        for i in range(1,12,2):\n",
    "            plt.plot(df['#Z'],df.iloc[:,i],label=electron_groups[i//2])\n",
    "    plt.ylim((-0.0165446, 0.3474366))\n",
    "    plt.xlabel('Box ($\\AA$)')\n",
    "    plt.ylabel('Electron density (e · $\\AA^{-3}$ )')\n",
    "    plt.legend(bbox_to_anchor=(1,1))\n",
    "    plt.savefig(f'{plots_folder}2.ElectronDensity/{pept_num}.{memb_num}.svg',transparent=True)\n",
    "    plt.close()\n"
   ]
  },
  {
   "cell_type": "code",
   "execution_count": 41,
   "metadata": {},
   "outputs": [],
   "source": [
    "plot_density(0,memb_num)"
   ]
  },
  {
   "cell_type": "markdown",
   "metadata": {},
   "source": [
    "## Pore"
   ]
  },
  {
   "cell_type": "code",
   "execution_count": 24,
   "metadata": {},
   "outputs": [],
   "source": [
    "def analyse_pore(u=u,pept_num=pept_num,memb_num=memb_num):\n",
    "    #Getting only min radii of each frame w/ Numpy arrays\n",
    "    Wpos = []\n",
    "    for ts in u.trajectory:\n",
    "        waters = u.select_atoms(\"resname WAT and name O\")\n",
    "        Wpos.append(waters.positions)\n",
    "\n",
    "    Wpos = np.array(Wpos)\n",
    "\n",
    "    #NUMPY ARRAYS --> x12 time faster\n",
    "    pore_per_ts = [] #Here we will save, for each ts, the limiting point of the porus (min radii accross all Z stacks)\n",
    "\n",
    "    #Iterate over trajectory positions X and Y of waters\n",
    "    for ts in Wpos:\n",
    "        pore_radiis = set() #Save all Z-stack por radii for each ts\n",
    "        for i in range(10,80, 2): #Iterate over Z positions 10 and 80 A (modificable) every 2 A\n",
    "            slice_w = ts[(ts[...,2] > i) & (ts[...,2] < i+2)] #Slicing array by Z coordinate\n",
    "            X = slice_w[:,0] # X positions\n",
    "            Y = slice_w[:,1] # Y positions\n",
    "            \n",
    "            if len(X) == 0 or len(Y) == 0:\n",
    "                WXOM = [0,0]\n",
    "                pore_radiis.add(0)\n",
    "            else:\n",
    "                WCOM = [sum(X)/len(X), sum(Y)/len(Y)] #Center of mass of the waters\n",
    "            \n",
    "                #Distance between the WCOM and the furthest water from it\n",
    "                #This is the radii of the circle that contains ALL waters for that stack\n",
    "                pore_radiis.add(max([distance.euclidean(WCOM, [X[i],Y[i]]) for i,x in enumerate(X)]))\n",
    "        #For each ts, add the radii of the smallest circle\n",
    "        \n",
    "        #This will be the Z stack with the smaller circle --> water pore bottleneck\n",
    "        pore_per_ts.append(min(pore_radiis))\n",
    "        \n",
    "    df = pd.DataFrame()\n",
    "    df['Time'] = [i/10 for i in range(1000)]\n",
    "    df['Pore'] = pore_per_ts\n",
    "    df.to_csv(f'{data_folder}3.Pore/{pept_num}.{memb_num}.csv')"
   ]
  },
  {
   "cell_type": "code",
   "execution_count": 25,
   "metadata": {},
   "outputs": [],
   "source": [
    "def plot_pore(group_num,memb_num):\n",
    "    fig, ax = plt.subplots()\n",
    "    for pept_num in all_groups[group_num]:\n",
    "        df = pd.read_csv(f'{data_folder}3.Pore/{pept_num}.{memb_num}.csv',index_col=0).rolling(25).mean()\n",
    "        plt.plot(df['Time'],df['Pore'],color=pept_colors[pept_num],linewidth=2,label=peptide_names[pept_num])\n",
    "    plt.xlabel('Time (ns)')\n",
    "    plt.ylabel('Radius ($\\AA$)')\n",
    "    plt.legend(bbox_to_anchor=(1,1))\n",
    "    ax.set_ylim(-1.162315238239082, 24.408620003020722)\n",
    "    plt.title(f'Pore radius distribution in {membrane_names[memb_num]}')\n",
    "    plt.savefig(f'{plots_folder}3.Pore/{memb_num}_{group_names[group_num].lower()}_pore.svg',transparent=True)\n",
    "    plt.close()\n",
    "    # return ax"
   ]
  },
  {
   "cell_type": "code",
   "execution_count": 42,
   "metadata": {},
   "outputs": [],
   "source": [
    "analyse_pore(u,pept_num,memb_num)\n",
    "plot_pore(0,memb_num)\n"
   ]
  },
  {
   "cell_type": "markdown",
   "metadata": {},
   "source": [
    "## Occupancy"
   ]
  },
  {
   "cell_type": "code",
   "execution_count": 4,
   "metadata": {},
   "outputs": [],
   "source": [
    "def analyse_occupancy(u,traj_file,parm_file,folder,pept_num,memb_num,lipid='PC'):\n",
    "    # Save resnames in a list and convert to 1 letter code\n",
    "    resnames_long = list(u.select_atoms('protein').residues.resnames)\n",
    "    resnames_short = [mda.lib.util.convert_aa_code(i) for i in resnames_long]\n",
    "    \n",
    "    # Initialize lipid interaction: collect the lipids (numbers from 0 to 299) that are interacting with each residue in each frame\n",
    "    cutoffs = [0.35]\n",
    "    nprot = 1\n",
    "    timeunit = 'ns'\n",
    "    li = LipidInteraction(traj_file, topfile_list=parm_file, cutoffs=cutoffs, lipid=lipid,\n",
    "                        nprot=nprot, save_dir=folder)\n",
    "    li.collect_residue_contacts()\n",
    "\n",
    "    # Create array of residue length and simulation duration\n",
    "    upper_contacts = [[[[] for j in range(len(u.trajectory))]] for i in range(peptides_length[pept_num])]\n",
    "    lower_contacts = [[[[] for j in range(len(u.trajectory))]] for i in range(peptides_length[pept_num])]\n",
    "\n",
    "    # Add the lipid numbers of interaction in the upper_ or lower_contacts arrays in the correct residue and frame\n",
    "    for residue in range(peptides_length[pept_num]):\n",
    "        for frame,contacts in enumerate(li._contact_residues_high[residue][0]):\n",
    "            for lipid_number in contacts:\n",
    "                if lipid_number > 149: #Lipid numbers 0 to 149 are upper leaflet, 150 to 299 lower leaflet\n",
    "                    lower_contacts[residue][0][frame].append(lipid_number)\n",
    "                elif lipid_number <= 149:\n",
    "                    upper_contacts[residue][0][frame].append(lipid_number)\n",
    "    \n",
    "    # Compute occupancies\n",
    "    upper_occupancies = []\n",
    "    for residue in range(peptides_length[pept_num]):\n",
    "        residue_i_contacts = []\n",
    "        for i in range(len(u.trajectory)):\n",
    "            if len(upper_contacts[residue][0][i]) > 0: # If there is at least one lipid interacting, we add 1 (since we want to see whether there is interaction or not)\n",
    "                residue_i_contacts.append(1)\n",
    "            else: residue_i_contacts.append(0) # If no lipid interacting, we add 0\n",
    "        upper_occupancies.append(sum(residue_i_contacts)/len(u.trajectory)*100) # Sum and divide by trajectory length and multiply by 100 to get the percentage of occupancy per residue\n",
    "\n",
    "    lower_occupancies = []\n",
    "    for residue in range(peptides_length[pept_num]):\n",
    "        residue_i_contacts = []\n",
    "        for i in range(len(u.trajectory)):\n",
    "            if len(lower_contacts[residue][0][i]) > 0:\n",
    "                residue_i_contacts.append(1)\n",
    "            else: residue_i_contacts.append(0)\n",
    "        lower_occupancies.append(sum(residue_i_contacts)/len(u.trajectory)*100)\n",
    "    \n",
    "    df_upper = pd.DataFrame()\n",
    "    df_upper['Resnames'] = resnames_short\n",
    "    df_upper['Occupancies'] = upper_occupancies\n",
    "    df_upper.to_csv(f'{data_folder}4.Occupancy/{pept_num}.{memb_num}_upper_{lipid}.csv')\n",
    "\n",
    "    df_lower = pd.DataFrame()\n",
    "    df_lower['Resnames'] = resnames_short\n",
    "    df_lower['Occupancies'] = lower_occupancies\n",
    "    df_lower.to_csv(f'{data_folder}4.Occupancy/{pept_num}.{memb_num}_lower_{lipid}.csv')\n",
    "    # return df_upper,df_lower"
   ]
  },
  {
   "cell_type": "code",
   "execution_count": 41,
   "metadata": {},
   "outputs": [
    {
     "data": {
      "text/plain": [
       "'R'"
      ]
     },
     "execution_count": 41,
     "metadata": {},
     "output_type": "execute_result"
    }
   ],
   "source": [
    "df['Resnames'].loc[0]"
   ]
  },
  {
   "cell_type": "code",
   "execution_count": null,
   "metadata": {},
   "outputs": [],
   "source": [
    "for i in range(1,len(df['Resnames'])):\n",
    "    []"
   ]
  },
  {
   "cell_type": "code",
   "execution_count": 46,
   "metadata": {},
   "outputs": [
    {
     "data": {
      "text/plain": [
       "['R1', 'R2', 'R3', 'R4', 'R5', 'R6', 'R7', 'R8', 'R9']"
      ]
     },
     "execution_count": 46,
     "metadata": {},
     "output_type": "execute_result"
    }
   ],
   "source": [
    "df = pd.read_csv(f'{data_folder}4.Occupancy/{pept_num}.{memb_num}_upper_PC.csv',index_col=0)\n",
    "categories=[f'{df[\"Resnames\"].loc[i-1]}{str(i)}' for i in range(1,len(df['Resnames'])+1)]\n",
    "categories"
   ]
  },
  {
   "cell_type": "code",
   "execution_count": 68,
   "metadata": {},
   "outputs": [],
   "source": [
    "def plot_occupancy(pept_num,memb_num,part='upper',lipid='PC'):\n",
    "    peptide_name = peptide_names[pept_num]\n",
    "    peptide_color = pept_colors[pept_num]\n",
    "    df = pd.read_csv(f'{data_folder}4.Occupancy/{pept_num}.{memb_num}_{part}_{lipid}.csv',index_col=0)\n",
    "    # ------- PART 1: Create background\n",
    " \n",
    "    # number of variable\n",
    "    # categories=list(df['Resnames'])\n",
    "    categories = [f'{df[\"Resnames\"].loc[i-1]}{str(i)}' for i in range(1,len(df['Resnames'])+1)] # Doing a mix of resname and resid (R1,R2...)\n",
    "    N = len(categories)\n",
    "    # What will be the angle of each axis in the plot? (we divide the plot / number of variable)\n",
    "    angles = [n / float(N) * 2 * 3.14 for n in range(N)]\n",
    "    angles += angles[:1]\n",
    "    # Initialise the spider plot\n",
    "    ax = plt.subplot(111, polar=True)\n",
    "    # If you want the first axis to be on top:\n",
    "    ax.set_theta_offset(3.14 / 2)\n",
    "    ax.set_theta_direction(-1)\n",
    "    # Draw one axe per variable + add labels\n",
    "    plt.xticks(angles[:-1], categories, size=15, color=peptide_color, weight='bold')\n",
    "    plt.tick_params(axis=\"x\", which=\"major\", pad=25)\n",
    "    # Draw ylabels\n",
    "    ax.set_rlabel_position(0)\n",
    "    plt.yticks([20,40,60,80,100], [\"20%\",\"40%\",\"60%\",\"80%\",\"100%\"], color=\"grey\", size=25)\n",
    "    plt.ylim(0,100)\n",
    "    \n",
    "\n",
    "    # ------- PART 2: Add plots\n",
    "\n",
    "    # Plot each individual = each line of the data\n",
    "    # I don't make a loop, because plotting more than 3 groups makes the chart unreadable\n",
    "\n",
    "    # Ind1\n",
    "    values=df['Occupancies'].values.flatten().tolist()\n",
    "    values += values[:1]\n",
    "    ax.plot(angles, values, linewidth=3, linestyle='solid', label=f'{peptide_name}', color=peptide_color)\n",
    "    ax.fill(angles, values, alpha=0.2, color=peptide_color)\n",
    "    plt.xticks(angles[:-1], categories, size=35, color=peptide_color, weight='bold')\n",
    "    plt.tick_params(axis=\"x\", which=\"major\", pad=40)\n",
    "\n",
    "    # Add legend\n",
    "#     plt.legend(loc='upper right', bbox_to_anchor=(0.1, 0.1))\n",
    "    plt.rcParams[\"figure.figsize\"] = (10,10)\n",
    "\n",
    "    # Show the graph\n",
    "    plt.savefig(f'{plots_folder}4.Occupancy/{pept_num}.{memb_num}_{part}_{lipid}.svg', bbox_inches='tight')\n",
    "    plt.close()"
   ]
  },
  {
   "cell_type": "code",
   "execution_count": 64,
   "metadata": {},
   "outputs": [],
   "source": [
    "plot_occupancy(1,1)"
   ]
  },
  {
   "cell_type": "markdown",
   "metadata": {},
   "source": [
    "## Lipid Parameters"
   ]
  },
  {
   "cell_type": "code",
   "execution_count": 27,
   "metadata": {},
   "outputs": [],
   "source": [
    "def analyse_membrane_thickness(u,pept_num,memb_num):\n",
    "    leaflets = AssignLeaflets(universe=u, lipid_sel=\"resname PC PS\")\n",
    "    leaflets.run(start=None, stop=None, step=None)  # this will use every frame in the trajectory\n",
    "    memb_thickness = MembThickness(universe=u, leaflets=leaflets.filter_leaflets(\"resname PC PS\"), lipid_sel=\"resname PC PS\") # Get only polar heads\n",
    "    memb_thickness.run(start=None, stop=None, step=None)\n",
    "    \n",
    "    # Select which frames to use and perform the analysis\n",
    "    df = pd.DataFrame()\n",
    "    df['Time'] = [i/10 for i in range(1000)]\n",
    "    df['MT'] = memb_thickness.memb_thickness\n",
    "    df.to_csv(f'{data_folder}5.LipidParameters/{pept_num}.{memb_num}_mt.csv')\n",
    "    return leaflets\n",
    "\n",
    "def plot_membrane_thickness(group_num,memb_num):\n",
    "    fig,ax = plt.subplots()\n",
    "    for pept_num in all_groups[group_num]:\n",
    "        df = pd.read_csv(f'{data_folder}5.LipidParameters/{pept_num}.{memb_num}_mt.csv',index_col=0).rolling(100).mean()\n",
    "        plt.plot(df['Time'],df['MT'],color=pept_colors[pept_num],linewidth=2,label=peptide_names[pept_num])\n",
    "    plt.legend(bbox_to_anchor=(1,1))\n",
    "    plt.xlabel('Time (ns)')\n",
    "    plt.ylabel('Thickness ($\\AA$)')\n",
    "    plt.title(f'{group_names[group_num]} Membrane thickness in {membrane_names[memb_num]} membranes')\n",
    "    ax.set_ylim(35.12850380172932,43.04469496596846)\n",
    "    plt.savefig(f'{plots_folder}5.LipidParameters/{memb_num}_{group_names[group_num].lower()}_mt.svg',transparent=True)\n",
    "    plt.show()\n",
    "    # return ax\n"
   ]
  },
  {
   "cell_type": "code",
   "execution_count": 43,
   "metadata": {},
   "outputs": [],
   "source": [
    "leaflets = analyse_membrane_thickness(u,0,3)"
   ]
  },
  {
   "cell_type": "code",
   "execution_count": 12,
   "metadata": {},
   "outputs": [],
   "source": [
    "def analyse_area_per_lipid(u,leaflets,pept_num,memb_num):\n",
    "    areas = AreaPerLipid(universe=u, lipid_sel=\"resname PC PS\", leaflets=leaflets.leaflets)\n",
    "    areas.run(start=None, stop=None, step=None)\n",
    "\n",
    "    apl = []\n",
    "    for i in range(len(u.trajectory)):\n",
    "        apl.append(np.mean(areas.areas.T[i]))\n",
    "\n",
    "    df = pd.DataFrame()\n",
    "    df['Time'] = [i/10 for i in range(1000)]\n",
    "    df['APL'] = apl\n",
    "    df.to_csv(f'{data_folder}5.LipidParameters/{pept_num}.{memb_num}_apl.csv')\n",
    "\n",
    "def plot_area_per_lipid(group_num,memb_num):\n",
    "    fig,ax = plt.subplots()\n",
    "    for pept_num in all_groups[group_num]:\n",
    "        df = pd.read_csv(f'{data_folder}5.LipidParameters/{pept_num}.{memb_num}_apl.csv',index_col=0).rolling(100).mean()\n",
    "        plt.plot(df['Time'],df['APL'],color=pept_colors[pept_num],linewidth=2,label=peptide_names[pept_num])\n",
    "    plt.legend(bbox_to_anchor=(1,1))\n",
    "    plt.xlabel('Time (ns)')\n",
    "    plt.ylabel('Area per lipid ($\\AA {^2}$)')\n",
    "    plt.title(f'{group_names[group_num]} Area per Lipid in {membrane_names[memb_num]} membranes')\n",
    "    ax.set_ylim(55.10858687713933, 79.57832261499635)\n",
    "    plt.savefig(f'{plots_folder}5.LipidParameters/{memb_num}_{group_names[group_num].lower()}_apl.svg',transparent=True)\n",
    "    plt.show()\n",
    "    # return ax"
   ]
  },
  {
   "cell_type": "code",
   "execution_count": 44,
   "metadata": {},
   "outputs": [],
   "source": [
    "analyse_area_per_lipid(u,leaflets,0,3)"
   ]
  },
  {
   "cell_type": "code",
   "execution_count": 45,
   "metadata": {},
   "outputs": [
    {
     "data": {
      "image/png": "[encoded data removed]",
      "text/plain": [
       "<Figure size 640x480 with 1 Axes>"
      ]
     },
     "metadata": {},
     "output_type": "display_data"
    },
    {
     "data": {
      "image/png": "[encoded data removed]",
      "text/plain": [
       "<Figure size 640x480 with 1 Axes>"
      ]
     },
     "metadata": {},
     "output_type": "display_data"
    }
   ],
   "source": [
    "plot_membrane_thickness(0,3)\n",
    "plot_area_per_lipid(0,3)"
   ]
  },
  {
   "cell_type": "code",
   "execution_count": null,
   "metadata": {},
   "outputs": [],
   "source": [
    "def analyse_lipid_order_parameters(u, pept_num, memb_num,lipid='PA'):\n",
    "    # Create an empty DataFrame to store lipid order parameters\n",
    "    df_lop = pd.DataFrame()\n",
    "    lop = []  # List to store order parameters\n",
    "    \n",
    "    # Iterate over carbon numbers 2 to 16\n",
    "    for c_number in range(2, 17):\n",
    "        # Define selection criteria for atoms\n",
    "        selection = f'resname {lipid} and name C1{c_number} H{c_number}R H{c_number}S'\n",
    "        # Select atoms based on the selection criteria\n",
    "        atom_selection = u.select_atoms(selection)\n",
    "        # Extract trajectory data (positions) of selected atoms\n",
    "        skip = len(set(atom_selection.names))\n",
    "        data = u.trajectory.timeseries(atom_selection)\n",
    "        # Transpose the trajectory data so that its structure is (atoms,frames,positions)\n",
    "        data2 = np.transpose(data, (1, 0, 2))\n",
    "        # Calculate displacement vectors between frames\n",
    "        conc_data = [data2[n::skip]-data2[0::skip] for n in range(1,skip)]\n",
    "        cd = np.concatenate(conc_data, axis=0) #Then concatenate\n",
    "        #     cd = np.concatenate((data2[1::3] - data2[0::3], data2[2::3] - data2[0::3]), axis=0)\n",
    "        # Calculate magnitude of displacement vectors\n",
    "        cd_r = np.sqrt(np.sum(np.power(cd, 2), axis=-1))\n",
    "        # Calculate cosine of the angle between displacement vectors and z-axis\n",
    "        cos_theta = cd[..., 2] / cd_r\n",
    "        # Calculate lipid order parameter using the formula\n",
    "        s_cd = -0.5 * (3. * np.square(cos_theta) - 1)\n",
    "        # Reshape the array to appropriate dimensions\n",
    "        # s_cd.shape = (int(s_cd.shape[0]/(skip-1)), s_cd.shape[1], -1)\n",
    "        # Calculate average order parameter\n",
    "        order_param = np.average(s_cd)\n",
    "        # order_param = np.std(s_cd) # To calculate std\n",
    "        # Append the order parameter to the list\n",
    "        lop.append(order_param)\n",
    "    \n",
    "    # Create a list of carbon numbers\n",
    "    c_numbers = [i for i in range(2, 17)]\n",
    "    # Add carbon numbers and order parameters to the DataFrame\n",
    "    df_lop['Cn'] = c_numbers\n",
    "    df_lop['LOP'] = lop\n",
    "    # Save DataFrame to a CSV file\n",
    "    df_lop.to_csv(f'{data_folder}5.LipidParameters/{pept_num}.{memb_num}_lop_{lipid.lower()}.csv')\n",
    "    # df_lop.to_csv(f'{data_folder}5.LipidParameters/{pept_num}.{memb_num}_lop_{lipid.lower()}_std.csv')\n"
   ]
  },
  {
   "cell_type": "code",
   "execution_count": null,
   "metadata": {},
   "outputs": [],
   "source": [
    "def plot_lipid_order_parameters(group_num,memb_num,lipid='PA'):\n",
    "    fig,ax = plt.subplots()\n",
    "    for pept_num in all_groups[group_num]:\n",
    "        df_lop = pd.read_csv(f'{data_folder}5.LipidParameters/{pept_num}.{memb_num}_lop_{lipid.lower()}.csv')\n",
    "        plt.plot(df_lop['Cn'],df_lop['LOP'],color=pept_colors[pept_num],label=peptide_names[pept_num])\n",
    "        plt.scatter(df_lop['Cn'],df_lop['LOP'],color=pept_colors[pept_num],facecolors='None') # Add also points to the graph (empty, only circunferences)\n",
    "    plt.xlabel('Carbon number')\n",
    "    plt.ylabel('SCD')\n",
    "    plt.title(f'{group_names[group_num]} LOP in {membrane_names[memb_num]}')\n",
    "    ax.set_ylim(0.0034584139999999965, 0.384957466)\n",
    "    plt.savefig(f'{plots_folder}5.LipidParameters/{memb_num}_{group_names[group_num].lower()}_lop_{lipid.lower()}.svg',transparent=True)\n",
    "    plt.close()\n",
    "    # return ax"
   ]
  },
  {
   "cell_type": "code",
   "execution_count": 46,
   "metadata": {},
   "outputs": [],
   "source": [
    "analyse_lipid_order_parameters(u,0,3)"
   ]
  },
  {
   "cell_type": "code",
   "execution_count": 47,
   "metadata": {},
   "outputs": [],
   "source": [
    "plot_lipid_order_parameters(0,3)"
   ]
  },
  {
   "cell_type": "markdown",
   "metadata": {},
   "source": [
    "## ALL"
   ]
  },
  {
   "cell_type": "code",
   "execution_count": 108,
   "metadata": {},
   "outputs": [],
   "source": [
    "def analyse_everything(start_pept=1,last_pept=2,start_memb=1,last_memb=2):\n",
    "    for memb_num in range(start_memb,last_memb):\n",
    "        for pept_num in range(start_pept,last_pept):\n",
    "                peptide = peptides[pept_num]\n",
    "                peptide_name = peptide_names[pept_num]\n",
    "                membrane = membranes[memb_num]\n",
    "                membrane_name = membrane_names[memb_num]\n",
    "                pept_color = pept_colors[pept_num]\n",
    "                folder = f'{folders[pept_num]}/{memb_num}.{membrane}/'\n",
    "                parm_file = f'{folder}step5_input.parm7'\n",
    "                traj_file = f'{folder}step7.3_final_relaxation_100ns.nc'\n",
    "                center_relax = f'{folder}step7.4_asmd_relax_centered.nc'\n",
    "\n",
    "                # u = mda.Universe(parm_file,traj_file)\n",
    "                # c = mda.Universe(parm_file,center_relax)\n",
    "                # if memb_num == 1: pc_num = 150\n",
    "                # elif memb_num == 2: pc_num = 100\n",
    "                # else: pc_num == 120\n",
    "                # upper_leaflet_z = c.select_atoms('resname PC PS and name O31').atoms[:pc_num].center_of_mass()[2]\n",
    "                # lower_leaflet_z = c.select_atoms('resname PC PS and name O31').atoms[pc_num:].center_of_mass()[2]\n",
    "                # print(upper_leaflet_z,lower_leaflet_z,upper_leaflet_z-lower_leaflet_z)\n",
    "                # center_traj(folder=folder)\n",
    "                # calculate_pmf(pept_num=pept_num,memb_num=memb_num)\n",
    "                # analyse_pmf(folder=folder,pept_num=pept_num,memb_num=memb_num)\n",
    "                # new_water_density(c,pept_num,memb_num)\n",
    "                plot_water_density(pept_num,memb_num)\n",
    "                # plot_pmf(pept_num=pept_num,memb_num=memb_num,peptide_name=peptide_name,membrane_name=membrane_name)\n",
    "                # plot_density(folder=folder,pept_num=pept_num,memb_num=memb_num,stride=25)\n",
    "                # analyse_pore(u=c,pept_num=pept_num,memb_num=memb_num)\n",
    "                # analyse_occupancy(u=u,traj_file=traj_file,parm_file=parm_file,folder=folder,pept_num=pept_num,memb_num=memb_num,lipid='PC')\n",
    "                # plot_occupancy(part='upper',pept_num=pept_num,memb_num=memb_num)\n",
    "                # plot_occupancy(part='lower',pept_num=pept_num,memb_num=memb_num)\n",
    "                # if memb_num == 3:\n",
    "                    # analyse_occupancy(u=u,traj_file=traj_file,parm_file=parm_file,folder=folder,pept_num=pept_num,memb_num=memb_num,lipid='PS')\n",
    "                    # plot_occupancy(part='upper',pept_num=pept_num,memb_num=memb_num,lipid='PS')\n",
    "                    # plot_occupancy(part='lower',pept_num=pept_num,memb_num=memb_num,lipid='PS')\n",
    "                # leaflets = analyse_membrane_thickness(u=u,pept_num=pept_num,memb_num=memb_num)\n",
    "                # analyse_area_per_lipid(u=u,leaflets=leaflets,pept_num=pept_num,memb_num=memb_num)\n",
    "                # if memb_num == 2 or memb_num == 3:\n",
    "                    # analyse_lipid_order_parameters(u,pept_num,memb_num,lipid='OL')\n",
    "                # analyse_lipid_order_parameters(u,pept_num,memb_num,lipid='PA')\n",
    "                \n",
    "        # for group_num in [0,1]:\n",
    "            # plot_all_replica_pmf(group_num=group_num,memb_num=memb_num)\n",
    "            # plot_pmf_all(data_folder=data_folder,plots_folder=plots_folder,memb_num=memb_num,membrane_name=membrane_name,group_num=group_num)\n",
    "            # plot_pore(group_num=group_num,memb_num=memb_num)\n",
    "            # plot_membrane_thickness(memb_num=memb_num,group_num=group_num)\n",
    "            # plot_area_per_lipid(memb_num=memb_num,group_num=group_num)\n",
    "            # plot_lipid_order_parameters(group_num,memb_num,'PA')\n",
    "            # if memb_num > 1: plot_lipid_order_parameters(group_num,memb_num,'OL')"
   ]
  },
  {
   "cell_type": "code",
   "execution_count": null,
   "metadata": {},
   "outputs": [],
   "source": [
    "analyse_everything(1,8,1,4)"
   ]
  },
  {
   "cell_type": "code",
   "execution_count": null,
   "metadata": {},
   "outputs": [],
   "source": []
  }
 ],
 "metadata": {
  "kernelspec": {
   "display_name": "venv",
   "language": "python",
   "name": "python3"
  },
  "language_info": {
   "codemirror_mode": {
    "name": "ipython",
    "version": 3
   },
   "file_extension": ".py",
   "mimetype": "text/x-python",
   "name": "python",
   "nbconvert_exporter": "python",
   "pygments_lexer": "ipython3",
   "version": "3.8.10"
  }
 },
 "nbformat": 4,
 "nbformat_minor": 2
}
